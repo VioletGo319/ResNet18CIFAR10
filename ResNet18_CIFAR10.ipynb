{
 "cells": [
  {
   "cell_type": "code",
   "execution_count": 1,
   "id": "e975af51",
   "metadata": {
    "execution": {
     "iopub.execute_input": "2024-04-12T03:27:52.134610Z",
     "iopub.status.busy": "2024-04-12T03:27:52.134223Z",
     "iopub.status.idle": "2024-04-12T03:27:58.814021Z",
     "shell.execute_reply": "2024-04-12T03:27:58.813214Z"
    },
    "id": "f3Oi6mXBbJAe",
    "papermill": {
     "duration": 6.690226,
     "end_time": "2024-04-12T03:27:58.816422",
     "exception": false,
     "start_time": "2024-04-12T03:27:52.126196",
     "status": "completed"
    },
    "tags": []
   },
   "outputs": [],
   "source": [
    "import numpy as np\n",
    "import pandas as pd\n",
    "import matplotlib.pyplot as plt\n",
    "import os\n",
    "import torch\n",
    "import torch.nn as nn\n",
    "from torch.utils.data import Dataset, DataLoader\n",
    "from torchvision import transforms\n"
   ]
  },
  {
   "cell_type": "code",
   "execution_count": 2,
   "id": "8f5134d6",
   "metadata": {
    "execution": {
     "iopub.execute_input": "2024-04-12T03:27:58.830423Z",
     "iopub.status.busy": "2024-04-12T03:27:58.829856Z",
     "iopub.status.idle": "2024-04-12T03:27:58.834659Z",
     "shell.execute_reply": "2024-04-12T03:27:58.833808Z"
    },
    "id": "iRzY40UCbUbL",
    "papermill": {
     "duration": 0.013756,
     "end_time": "2024-04-12T03:27:58.836607",
     "exception": false,
     "start_time": "2024-04-12T03:27:58.822851",
     "status": "completed"
    },
    "tags": []
   },
   "outputs": [],
   "source": [
    "def unpickle(file):\n",
    "    import pickle\n",
    "    with open(file, 'rb') as fo:\n",
    "        dict = pickle.load(fo, encoding='bytes')\n",
    "    return dict"
   ]
  },
  {
   "cell_type": "code",
   "execution_count": 3,
   "id": "7c21972e",
   "metadata": {
    "execution": {
     "iopub.execute_input": "2024-04-12T03:27:58.849806Z",
     "iopub.status.busy": "2024-04-12T03:27:58.849542Z",
     "iopub.status.idle": "2024-04-12T03:27:58.853141Z",
     "shell.execute_reply": "2024-04-12T03:27:58.852307Z"
    },
    "id": "yR_ANHPFccRz",
    "outputId": "ef70bb8c-a1cd-4bbd-a190-ad0222775469",
    "papermill": {
     "duration": 0.012459,
     "end_time": "2024-04-12T03:27:58.855097",
     "exception": false,
     "start_time": "2024-04-12T03:27:58.842638",
     "status": "completed"
    },
    "tags": []
   },
   "outputs": [],
   "source": [
    "#!unzip /content/drive/MyDrive/deep-learning-mini-project-spring-24-nyu.zip"
   ]
  },
  {
   "cell_type": "code",
   "execution_count": 4,
   "id": "ad009ed8",
   "metadata": {
    "execution": {
     "iopub.execute_input": "2024-04-12T03:27:58.868302Z",
     "iopub.status.busy": "2024-04-12T03:27:58.868059Z",
     "iopub.status.idle": "2024-04-12T03:28:02.105321Z",
     "shell.execute_reply": "2024-04-12T03:28:02.104423Z"
    },
    "id": "7pnEQhMPbY1-",
    "papermill": {
     "duration": 3.246446,
     "end_time": "2024-04-12T03:28:02.107671",
     "exception": false,
     "start_time": "2024-04-12T03:27:58.861225",
     "status": "completed"
    },
    "tags": []
   },
   "outputs": [],
   "source": [
    "#training set\n",
    "batch1 = unpickle(\"/kaggle/input/deep-learning-mini-project-spring-24-nyu/cifar-10-python/cifar-10-batches-py/data_batch_1\")\n",
    "batch2 = unpickle(\"/kaggle/input/deep-learning-mini-project-spring-24-nyu/cifar-10-python/cifar-10-batches-py/data_batch_2\")\n",
    "batch3 = unpickle(\"/kaggle/input/deep-learning-mini-project-spring-24-nyu/cifar-10-python/cifar-10-batches-py/data_batch_3\")\n",
    "batch4 = unpickle(\"/kaggle/input/deep-learning-mini-project-spring-24-nyu/cifar-10-python/cifar-10-batches-py/data_batch_4\")\n",
    "batch5 = unpickle(\"/kaggle/input/deep-learning-mini-project-spring-24-nyu/cifar-10-python/cifar-10-batches-py/data_batch_5\")\n",
    "\n",
    "#test set\n",
    "test_batch = unpickle(\"/kaggle/input/deep-learning-mini-project-spring-24-nyu/cifar-10-python/cifar-10-batches-py/test_batch\")"
   ]
  },
  {
   "cell_type": "code",
   "execution_count": 5,
   "id": "7a2e41ba",
   "metadata": {
    "execution": {
     "iopub.execute_input": "2024-04-12T03:28:02.122551Z",
     "iopub.status.busy": "2024-04-12T03:28:02.122225Z",
     "iopub.status.idle": "2024-04-12T03:28:02.128467Z",
     "shell.execute_reply": "2024-04-12T03:28:02.127551Z"
    },
    "id": "c5q7wNJdemRI",
    "outputId": "14b45bb0-f63b-4a01-cdcf-91ded11f0a51",
    "papermill": {
     "duration": 0.015986,
     "end_time": "2024-04-12T03:28:02.130782",
     "exception": false,
     "start_time": "2024-04-12T03:28:02.114796",
     "status": "completed"
    },
    "tags": []
   },
   "outputs": [
    {
     "name": "stdout",
     "output_type": "stream",
     "text": [
      "10000\n",
      "10000\n",
      "10000\n",
      "10000\n",
      "10000\n",
      "10000\n"
     ]
    }
   ],
   "source": [
    "print(len(batch1[b'filenames']))\n",
    "print(len(batch2[b'filenames']))\n",
    "print(len(batch3[b'filenames']))\n",
    "print(len(batch4[b'filenames']))\n",
    "print(len(batch5[b'filenames']))\n",
    "\n",
    "print(len(test_batch[b'filenames']))"
   ]
  },
  {
   "cell_type": "code",
   "execution_count": 6,
   "id": "2a263dde",
   "metadata": {
    "execution": {
     "iopub.execute_input": "2024-04-12T03:28:02.144884Z",
     "iopub.status.busy": "2024-04-12T03:28:02.144603Z",
     "iopub.status.idle": "2024-04-12T03:28:02.162947Z",
     "shell.execute_reply": "2024-04-12T03:28:02.162079Z"
    },
    "id": "-_GHsuL8erb0",
    "papermill": {
     "duration": 0.027608,
     "end_time": "2024-04-12T03:28:02.164947",
     "exception": false,
     "start_time": "2024-04-12T03:28:02.137339",
     "status": "completed"
    },
    "tags": []
   },
   "outputs": [],
   "source": [
    "import torch.nn.functional as F\n",
    "\n",
    "class BasicBlock(nn.Module):\n",
    "    expansion = 1\n",
    "\n",
    "\n",
    "    def __init__(self, in_planes, planes, stride=1):\n",
    "        super(BasicBlock, self).__init__()\n",
    "\n",
    "        DROPOUT = 0.1\n",
    "\n",
    "        self.conv1 = nn.Conv2d(\n",
    "            in_planes, planes, kernel_size=3, stride=stride, padding=1, bias=False)\n",
    "        self.bn1 = nn.BatchNorm2d(planes)\n",
    "        self.dropout = nn.Dropout(DROPOUT)\n",
    "        self.conv2 = nn.Conv2d(planes, planes, kernel_size=3,\n",
    "                               stride=1, padding=1, bias=False)\n",
    "        self.bn2 = nn.BatchNorm2d(planes)\n",
    "        self.dropout = nn.Dropout(DROPOUT)\n",
    "\n",
    "        self.shortcut = nn.Sequential()\n",
    "        if stride != 1 or in_planes != self.expansion*planes:\n",
    "            self.shortcut = nn.Sequential(\n",
    "                nn.Conv2d(in_planes, self.expansion*planes,\n",
    "                          kernel_size=1, stride=stride, bias=False),\n",
    "                nn.BatchNorm2d(self.expansion*planes),\n",
    "                nn.Dropout(DROPOUT)\n",
    "            )\n",
    "    def forward(self, x):\n",
    "        out = F.relu(self.dropout(self.bn1(self.conv1(x))))\n",
    "        out = self.dropout(self.bn2(self.conv2(out)))\n",
    "        out += self.shortcut(x)\n",
    "        out = F.relu(out)\n",
    "        return out\n",
    "\n",
    "class ResNet(nn.Module):\n",
    "    def __init__(self, block, num_blocks, num_classes=10):\n",
    "        super(ResNet, self).__init__()\n",
    "        self.in_planes = 42\n",
    "\n",
    "        self.conv1 = nn.Conv2d(3, 42, kernel_size=3,\n",
    "                               stride=1, padding=1, bias=False)\n",
    "        self.bn1 = nn.BatchNorm2d(42)\n",
    "        self.layer1 = self._make_layer(block, 42, num_blocks[0], stride=1)\n",
    "        self.layer2 = self._make_layer(block, 84, num_blocks[1], stride=2)\n",
    "        self.layer3 = self._make_layer(block, 168, num_blocks[2], stride=2)\n",
    "        self.layer4 = self._make_layer(block, 336, num_blocks[3], stride=2)\n",
    "        self.linear = nn.Linear(336*block.expansion, num_classes)\n",
    "\n",
    "    def _make_layer(self, block, planes, num_blocks, stride):\n",
    "        strides = [stride] + [1]*(num_blocks-1)\n",
    "        layers = []\n",
    "        for stride in strides:\n",
    "            layers.append(block(self.in_planes, planes, stride))\n",
    "            self.in_planes = planes * block.expansion\n",
    "        return nn.Sequential(*layers)\n",
    "\n",
    "    def forward(self, x):\n",
    "        out = F.relu(self.bn1(self.conv1(x)))\n",
    "        out = self.layer1(out)\n",
    "        out = self.layer2(out)\n",
    "        out = self.layer3(out)\n",
    "        out = self.layer4(out)\n",
    "        out = F.avg_pool2d(out, 4)\n",
    "        out = out.view(out.size(0), -1)\n",
    "        out = self.linear(out)\n",
    "        return out\n",
    "\n",
    "def ResNet18():\n",
    "    return ResNet(BasicBlock, [2, 2, 2, 2])"
   ]
  },
  {
   "cell_type": "code",
   "execution_count": 7,
   "id": "51a6f1a4",
   "metadata": {
    "execution": {
     "iopub.execute_input": "2024-04-12T03:28:02.179567Z",
     "iopub.status.busy": "2024-04-12T03:28:02.179259Z",
     "iopub.status.idle": "2024-04-12T03:28:02.187955Z",
     "shell.execute_reply": "2024-04-12T03:28:02.187082Z"
    },
    "id": "od12kDgjfNgu",
    "papermill": {
     "duration": 0.018073,
     "end_time": "2024-04-12T03:28:02.189793",
     "exception": false,
     "start_time": "2024-04-12T03:28:02.171720",
     "status": "completed"
    },
    "tags": []
   },
   "outputs": [],
   "source": [
    "from PIL import Image\n",
    "\n",
    "\n",
    "class CIFAR10Dataset(Dataset):\n",
    "    def __init__(self, batch_data, transform=None):\n",
    "        \"\"\"\n",
    "        Args:\n",
    "            batch_data (list): List of unpickled batch data.\n",
    "            transform (callable, optional): Optional transform to be applied on a sample.\n",
    "        \"\"\"\n",
    "        # Decode byte keys and combine data from all batches\n",
    "        self.data = np.vstack([batch[b'data'] for batch in batch_data])\n",
    "        self.data = self.data.reshape(-1, 3, 32, 32).astype('float32')  # reshape to NCHW format\n",
    "        self.labels = np.hstack([batch[b'labels'] for batch in batch_data])\n",
    "        self.transform = transform\n",
    "\n",
    "    def __len__(self):\n",
    "        return len(self.data)\n",
    "\n",
    "    def __getitem__(self, idx):\n",
    "        image = self.data[idx]\n",
    "        label = self.labels[idx]\n",
    "\n",
    "        # Reshape the image from (3072,) to (3, 32, 32) which is C, H, W\n",
    "        image = image.reshape(3, 32, 32)\n",
    "\n",
    "        image = image.transpose(1, 2, 0).astype(np.uint8)\n",
    "\n",
    "        if self.transform:\n",
    "            # Convert the NumPy array to PIL Image and apply the transforms\n",
    "            image = Image.fromarray(image)\n",
    "\n",
    "            # Apply the transform (including any scaling or normalization)\n",
    "            image = self.transform(image)\n",
    "\n",
    "        return image, label"
   ]
  },
  {
   "cell_type": "code",
   "execution_count": 8,
   "id": "df29b515",
   "metadata": {
    "execution": {
     "iopub.execute_input": "2024-04-12T03:28:02.204745Z",
     "iopub.status.busy": "2024-04-12T03:28:02.204095Z",
     "iopub.status.idle": "2024-04-12T03:28:02.210530Z",
     "shell.execute_reply": "2024-04-12T03:28:02.209602Z"
    },
    "id": "JncCPveefUtI",
    "papermill": {
     "duration": 0.016084,
     "end_time": "2024-04-12T03:28:02.212502",
     "exception": false,
     "start_time": "2024-04-12T03:28:02.196418",
     "status": "completed"
    },
    "tags": []
   },
   "outputs": [],
   "source": [
    "transform = transforms.Compose([\n",
    "    transforms.RandomHorizontalFlip(),\n",
    "    transforms.RandomRotation((-7,7)),\n",
    "    transforms.RandomAffine(0, shear=10, scale=(0.8,1.2)),\n",
    "    transforms.RandomCrop(32, padding=4),\n",
    "    transforms.ColorJitter(brightness=0.2, contrast=0.2, saturation=0.2),\n",
    "    transforms.ToTensor(),\n",
    "    transforms.Normalize((0.485, 0.456, 0.406), (0.229, 0.224, 0.225))\n",
    "])"
   ]
  },
  {
   "cell_type": "code",
   "execution_count": 9,
   "id": "5d4a983d",
   "metadata": {
    "execution": {
     "iopub.execute_input": "2024-04-12T03:28:02.227764Z",
     "iopub.status.busy": "2024-04-12T03:28:02.226990Z",
     "iopub.status.idle": "2024-04-12T03:28:02.479809Z",
     "shell.execute_reply": "2024-04-12T03:28:02.479066Z"
    },
    "id": "WomEP03DfZzb",
    "papermill": {
     "duration": 0.262894,
     "end_time": "2024-04-12T03:28:02.482197",
     "exception": false,
     "start_time": "2024-04-12T03:28:02.219303",
     "status": "completed"
    },
    "tags": []
   },
   "outputs": [],
   "source": [
    "#Combine batches for training\n",
    "train_data = [batch1, batch2, batch3, batch4, batch5]\n",
    "\n",
    "# Create the CIFAR-10 dataset\n",
    "cifar10_dataset = CIFAR10Dataset(batch_data=train_data, transform=transform)\n",
    "\n",
    "# Use DataLoader to handle batching\n",
    "train_loader = DataLoader(cifar10_dataset, batch_size=512, shuffle=True)\n",
    "\n",
    "# Load test data\n",
    "test_dataset = CIFAR10Dataset(batch_data=[test_batch], transform=transform)\n",
    "test_loader = DataLoader(test_dataset, batch_size=512, shuffle=False)"
   ]
  },
  {
   "cell_type": "code",
   "execution_count": 10,
   "id": "6ac84768",
   "metadata": {
    "execution": {
     "iopub.execute_input": "2024-04-12T03:28:02.497910Z",
     "iopub.status.busy": "2024-04-12T03:28:02.497627Z",
     "iopub.status.idle": "2024-04-12T03:28:02.504072Z",
     "shell.execute_reply": "2024-04-12T03:28:02.503241Z"
    },
    "id": "2Ql2kTOKfeXl",
    "outputId": "00c39c03-4347-447b-dbdc-47a5c275a3d6",
    "papermill": {
     "duration": 0.015836,
     "end_time": "2024-04-12T03:28:02.505949",
     "exception": false,
     "start_time": "2024-04-12T03:28:02.490113",
     "status": "completed"
    },
    "tags": []
   },
   "outputs": [
    {
     "data": {
      "text/plain": [
       "dict_keys([b'batch_label', b'labels', b'data', b'filenames'])"
      ]
     },
     "execution_count": 10,
     "metadata": {},
     "output_type": "execute_result"
    }
   ],
   "source": [
    "train_data[0].keys()"
   ]
  },
  {
   "cell_type": "code",
   "execution_count": 11,
   "id": "611a36f4",
   "metadata": {
    "execution": {
     "iopub.execute_input": "2024-04-12T03:28:02.520626Z",
     "iopub.status.busy": "2024-04-12T03:28:02.520360Z",
     "iopub.status.idle": "2024-04-12T03:28:02.606556Z",
     "shell.execute_reply": "2024-04-12T03:28:02.605805Z"
    },
    "id": "Sk8qUuJwfmUL",
    "papermill": {
     "duration": 0.095994,
     "end_time": "2024-04-12T03:28:02.608653",
     "exception": false,
     "start_time": "2024-04-12T03:28:02.512659",
     "status": "completed"
    },
    "tags": []
   },
   "outputs": [],
   "source": [
    "num_classes = 10\n",
    "model = ResNet18()"
   ]
  },
  {
   "cell_type": "code",
   "execution_count": 12,
   "id": "c95f7041",
   "metadata": {
    "execution": {
     "iopub.execute_input": "2024-04-12T03:28:02.624065Z",
     "iopub.status.busy": "2024-04-12T03:28:02.623340Z",
     "iopub.status.idle": "2024-04-12T03:28:15.911872Z",
     "shell.execute_reply": "2024-04-12T03:28:15.910761Z"
    },
    "id": "jSMuEGQWfn9I",
    "outputId": "24f60367-3e34-431e-b8b0-21ee31050f2f",
    "papermill": {
     "duration": 13.298664,
     "end_time": "2024-04-12T03:28:15.914275",
     "exception": false,
     "start_time": "2024-04-12T03:28:02.615611",
     "status": "completed"
    },
    "tags": []
   },
   "outputs": [
    {
     "name": "stdout",
     "output_type": "stream",
     "text": [
      "Collecting torchsummary\r\n",
      "  Downloading torchsummary-1.5.1-py3-none-any.whl.metadata (296 bytes)\r\n",
      "Downloading torchsummary-1.5.1-py3-none-any.whl (2.8 kB)\r\n",
      "Installing collected packages: torchsummary\r\n",
      "Successfully installed torchsummary-1.5.1\r\n"
     ]
    }
   ],
   "source": [
    "!pip install torchsummary"
   ]
  },
  {
   "cell_type": "code",
   "execution_count": 13,
   "id": "72d19963",
   "metadata": {
    "execution": {
     "iopub.execute_input": "2024-04-12T03:28:15.930742Z",
     "iopub.status.busy": "2024-04-12T03:28:15.930428Z",
     "iopub.status.idle": "2024-04-12T03:28:15.941496Z",
     "shell.execute_reply": "2024-04-12T03:28:15.940835Z"
    },
    "papermill": {
     "duration": 0.021362,
     "end_time": "2024-04-12T03:28:15.943303",
     "exception": false,
     "start_time": "2024-04-12T03:28:15.921941",
     "status": "completed"
    },
    "tags": []
   },
   "outputs": [],
   "source": [
    "class EarlyStopping:\n",
    "    def __init__(self, patience=7, verbose=False, delta=0, path='checkpoint.pt', restore_best_weights=False):\n",
    "        self.patience = patience\n",
    "        self.verbose = verbose\n",
    "        self.delta = delta\n",
    "        self.path = path\n",
    "        self.restore_best_weights = restore_best_weights\n",
    "        self.counter = 0\n",
    "        self.best_score = None\n",
    "        self.early_stop = False\n",
    "        self.val_loss_min = float('inf')\n",
    "        self.best_weights = None\n",
    "\n",
    "    def __call__(self, model, val_loss):\n",
    "        score = -val_loss\n",
    "\n",
    "        if self.best_score is None:\n",
    "            self.best_score = score\n",
    "            self.save_checkpoint(val_loss, model)\n",
    "        elif score < self.best_score + self.delta:\n",
    "            self.counter += 1\n",
    "            if self.verbose:\n",
    "                print(f\"EarlyStopping counter: {self.counter} out of {self.patience}\")\n",
    "            if self.counter >= self.patience:\n",
    "                self.early_stop = True\n",
    "                if self.restore_best_weights and self.best_weights is not None:\n",
    "                    model.load_state_dict(self.best_weights)\n",
    "        else:\n",
    "            self.best_score = score\n",
    "            self.save_checkpoint(val_loss, model)\n",
    "            self.counter = 0\n",
    "\n",
    "    def save_checkpoint(self, val_loss, model):\n",
    "        '''Saves model when validation loss decrease.'''\n",
    "        if self.verbose:\n",
    "            print(f'Validation loss decreased ({self.val_loss_min:.6f} to {val_loss:.6f}).  Saving model to {self.path}')\n",
    "        torch.save(model.state_dict(), self.path)\n",
    "        self.val_loss_min = val_loss\n",
    "        if self.restore_best_weights:\n",
    "            self.best_weights = model.state_dict()\n",
    "\n"
   ]
  },
  {
   "cell_type": "code",
   "execution_count": 14,
   "id": "573dba51",
   "metadata": {
    "execution": {
     "iopub.execute_input": "2024-04-12T03:28:15.958743Z",
     "iopub.status.busy": "2024-04-12T03:28:15.958490Z",
     "iopub.status.idle": "2024-04-12T03:28:17.399415Z",
     "shell.execute_reply": "2024-04-12T03:28:17.398625Z"
    },
    "id": "rydYwMVNf0Ck",
    "outputId": "728f4ff0-e3aa-4ec8-b559-c5667907ec52",
    "papermill": {
     "duration": 1.45123,
     "end_time": "2024-04-12T03:28:17.401622",
     "exception": false,
     "start_time": "2024-04-12T03:28:15.950392",
     "status": "completed"
    },
    "tags": []
   },
   "outputs": [],
   "source": [
    "from torch.optim.lr_scheduler import ReduceLROnPlateau\n",
    "from sklearn.metrics import accuracy_score\n",
    "\n",
    "num_epochs = 300\n",
    "loss_function = nn.CrossEntropyLoss()\n",
    "\n",
    "optimizer = torch.optim.Adam(model.parameters(),lr=0.0005,weight_decay=1e-4)\n",
    "#optimizer = torch.optim.SGD(model.parameters(),lr=0.01, momentum=0.9)\n",
    "scheduler = ReduceLROnPlateau(optimizer, mode='min', factor=0.5, patience=20,threshold_mode='rel', cooldown=0, min_lr=0.00001, eps=1e-08, verbose=True)\n",
    "\n",
    "\n",
    "device = torch.device(\"cuda\" if torch.cuda.is_available() else \"cpu\")\n",
    "if torch.cuda.device_count() > 1:\n",
    "    print(f\"Number of GPUs available: {torch.cuda.device_count()}\")\n",
    "    model = nn.DataParallel(model)\n",
    "\n",
    "model.to(device)\n",
    "model = model.to(device)\n",
    "\n",
    "\n",
    "# Function to calculate accuracy\n",
    "def calculate_accuracy(y_true, y_pred):\n",
    "    y_true = y_true.cpu().numpy()\n",
    "    y_pred = y_pred.cpu().numpy()\n",
    "    return accuracy_score(y_true, y_pred)"
   ]
  },
  {
   "cell_type": "code",
   "execution_count": 15,
   "id": "751af575",
   "metadata": {
    "execution": {
     "iopub.execute_input": "2024-04-12T03:28:17.417914Z",
     "iopub.status.busy": "2024-04-12T03:28:17.417467Z",
     "iopub.status.idle": "2024-04-12T03:28:18.054286Z",
     "shell.execute_reply": "2024-04-12T03:28:18.053230Z"
    },
    "id": "36BrxOiLgAHb",
    "outputId": "5c5db505-289a-4573-ea00-cd2d9368a97e",
    "papermill": {
     "duration": 0.64768,
     "end_time": "2024-04-12T03:28:18.056839",
     "exception": false,
     "start_time": "2024-04-12T03:28:17.409159",
     "status": "completed"
    },
    "tags": []
   },
   "outputs": [
    {
     "name": "stdout",
     "output_type": "stream",
     "text": [
      "----------------------------------------------------------------\n",
      "        Layer (type)               Output Shape         Param #\n",
      "================================================================\n",
      "            Conv2d-1           [-1, 42, 32, 32]           1,134\n",
      "       BatchNorm2d-2           [-1, 42, 32, 32]              84\n",
      "            Conv2d-3           [-1, 42, 32, 32]          15,876\n",
      "       BatchNorm2d-4           [-1, 42, 32, 32]              84\n",
      "           Dropout-5           [-1, 42, 32, 32]               0\n",
      "            Conv2d-6           [-1, 42, 32, 32]          15,876\n",
      "       BatchNorm2d-7           [-1, 42, 32, 32]              84\n",
      "           Dropout-8           [-1, 42, 32, 32]               0\n",
      "        BasicBlock-9           [-1, 42, 32, 32]               0\n",
      "           Conv2d-10           [-1, 42, 32, 32]          15,876\n",
      "      BatchNorm2d-11           [-1, 42, 32, 32]              84\n",
      "          Dropout-12           [-1, 42, 32, 32]               0\n",
      "           Conv2d-13           [-1, 42, 32, 32]          15,876\n",
      "      BatchNorm2d-14           [-1, 42, 32, 32]              84\n",
      "          Dropout-15           [-1, 42, 32, 32]               0\n",
      "       BasicBlock-16           [-1, 42, 32, 32]               0\n",
      "           Conv2d-17           [-1, 84, 16, 16]          31,752\n",
      "      BatchNorm2d-18           [-1, 84, 16, 16]             168\n",
      "          Dropout-19           [-1, 84, 16, 16]               0\n",
      "           Conv2d-20           [-1, 84, 16, 16]          63,504\n",
      "      BatchNorm2d-21           [-1, 84, 16, 16]             168\n",
      "          Dropout-22           [-1, 84, 16, 16]               0\n",
      "           Conv2d-23           [-1, 84, 16, 16]           3,528\n",
      "      BatchNorm2d-24           [-1, 84, 16, 16]             168\n",
      "          Dropout-25           [-1, 84, 16, 16]               0\n",
      "       BasicBlock-26           [-1, 84, 16, 16]               0\n",
      "           Conv2d-27           [-1, 84, 16, 16]          63,504\n",
      "      BatchNorm2d-28           [-1, 84, 16, 16]             168\n",
      "          Dropout-29           [-1, 84, 16, 16]               0\n",
      "           Conv2d-30           [-1, 84, 16, 16]          63,504\n",
      "      BatchNorm2d-31           [-1, 84, 16, 16]             168\n",
      "          Dropout-32           [-1, 84, 16, 16]               0\n",
      "       BasicBlock-33           [-1, 84, 16, 16]               0\n",
      "           Conv2d-34            [-1, 168, 8, 8]         127,008\n",
      "      BatchNorm2d-35            [-1, 168, 8, 8]             336\n",
      "          Dropout-36            [-1, 168, 8, 8]               0\n",
      "           Conv2d-37            [-1, 168, 8, 8]         254,016\n",
      "      BatchNorm2d-38            [-1, 168, 8, 8]             336\n",
      "          Dropout-39            [-1, 168, 8, 8]               0\n",
      "           Conv2d-40            [-1, 168, 8, 8]          14,112\n",
      "      BatchNorm2d-41            [-1, 168, 8, 8]             336\n",
      "          Dropout-42            [-1, 168, 8, 8]               0\n",
      "       BasicBlock-43            [-1, 168, 8, 8]               0\n",
      "           Conv2d-44            [-1, 168, 8, 8]         254,016\n",
      "      BatchNorm2d-45            [-1, 168, 8, 8]             336\n",
      "          Dropout-46            [-1, 168, 8, 8]               0\n",
      "           Conv2d-47            [-1, 168, 8, 8]         254,016\n",
      "      BatchNorm2d-48            [-1, 168, 8, 8]             336\n",
      "          Dropout-49            [-1, 168, 8, 8]               0\n",
      "       BasicBlock-50            [-1, 168, 8, 8]               0\n",
      "           Conv2d-51            [-1, 336, 4, 4]         508,032\n",
      "      BatchNorm2d-52            [-1, 336, 4, 4]             672\n",
      "          Dropout-53            [-1, 336, 4, 4]               0\n",
      "           Conv2d-54            [-1, 336, 4, 4]       1,016,064\n",
      "      BatchNorm2d-55            [-1, 336, 4, 4]             672\n",
      "          Dropout-56            [-1, 336, 4, 4]               0\n",
      "           Conv2d-57            [-1, 336, 4, 4]          56,448\n",
      "      BatchNorm2d-58            [-1, 336, 4, 4]             672\n",
      "          Dropout-59            [-1, 336, 4, 4]               0\n",
      "       BasicBlock-60            [-1, 336, 4, 4]               0\n",
      "           Conv2d-61            [-1, 336, 4, 4]       1,016,064\n",
      "      BatchNorm2d-62            [-1, 336, 4, 4]             672\n",
      "          Dropout-63            [-1, 336, 4, 4]               0\n",
      "           Conv2d-64            [-1, 336, 4, 4]       1,016,064\n",
      "      BatchNorm2d-65            [-1, 336, 4, 4]             672\n",
      "          Dropout-66            [-1, 336, 4, 4]               0\n",
      "       BasicBlock-67            [-1, 336, 4, 4]               0\n",
      "           Linear-68                   [-1, 10]           3,370\n",
      "================================================================\n",
      "Total params: 4,815,940\n",
      "Trainable params: 4,815,940\n",
      "Non-trainable params: 0\n",
      "----------------------------------------------------------------\n",
      "Input size (MB): 0.01\n",
      "Forward/backward pass size (MB): 10.13\n",
      "Params size (MB): 18.37\n",
      "Estimated Total Size (MB): 28.51\n",
      "----------------------------------------------------------------\n"
     ]
    }
   ],
   "source": [
    "from torchsummary import summary\n",
    "summary(model,(3,32,32))"
   ]
  },
  {
   "cell_type": "code",
   "execution_count": 16,
   "id": "2f0f1b8f",
   "metadata": {
    "execution": {
     "iopub.execute_input": "2024-04-12T03:28:18.073410Z",
     "iopub.status.busy": "2024-04-12T03:28:18.073133Z",
     "iopub.status.idle": "2024-04-12T03:28:18.080776Z",
     "shell.execute_reply": "2024-04-12T03:28:18.079901Z"
    },
    "id": "3yTBE2OngFuQ",
    "outputId": "e63869cf-f47c-4703-e449-17c1ed600e54",
    "papermill": {
     "duration": 0.017935,
     "end_time": "2024-04-12T03:28:18.082569",
     "exception": false,
     "start_time": "2024-04-12T03:28:18.064634",
     "status": "completed"
    },
    "tags": []
   },
   "outputs": [
    {
     "data": {
      "text/plain": [
       "\"\\n##1.without early stoping\\n\\nfrom tqdm import tqdm\\n\\nfor epoch in range(num_epochs):\\n    model.train()  # Set the model to training mode\\n    train_bar = tqdm(train_loader, desc=f'Epoch {epoch+1}/{num_epochs} [Training]')\\n    for data, labels in train_bar:\\n        data, labels = data.to(device), labels.to(device)\\n\\n        # Forward pass\\n        outputs = model(data)\\n        loss = loss_function(outputs, labels)\\n\\n        # Backward and optimize\\n        optimizer.zero_grad()\\n        loss.backward()\\n        optimizer.step()\\n\\n        # Update the progress bar\\n        train_bar.set_postfix(loss=loss.item())\\n\\n    # Validate the model\\n    model.eval()\\n    validation_loss = 0\\n    with torch.no_grad():\\n        for data, labels in test_loader:\\n            data, labels = data.to(device), labels.to(device)\\n            outputs = model(data)\\n            loss = loss_function(outputs, labels)\\n            validation_loss += loss.item() * data.size(0)\\n    validation_loss /= len(test_loader.dataset)\\n\\n    # Step the scheduler\\n    scheduler.step(validation_loss)\\n\\n    # Test the model\\n    test_bar = tqdm(test_loader, desc=f'Epoch {epoch+1}/{num_epochs} [Testing]')\\n    with torch.no_grad():\\n        correct = 0\\n        total = 0\\n        for images, labels in test_bar:\\n            images, labels = images.to(device), labels.to(device)\\n            outputs = model(images)\\n            _, predicted = torch.max(outputs.data, 1)\\n            total += labels.size(0)\\n            correct += (predicted == labels).sum().item()\\n\\n        accuracy = 100 * correct / total\\n        test_bar.set_postfix(accuracy=f'{accuracy:.2f}%')\\n\\n    print(f'Accuracy of the model on the validation set: {accuracy:.2f}%')\\n\\n# Save the model checkpoint\\ntorch.save(model.state_dict(), 'model.ckpt')\\n\""
      ]
     },
     "execution_count": 16,
     "metadata": {},
     "output_type": "execute_result"
    }
   ],
   "source": [
    "'''\n",
    "##1.without early stoping\n",
    "\n",
    "from tqdm import tqdm\n",
    "\n",
    "for epoch in range(num_epochs):\n",
    "    model.train()  # Set the model to training mode\n",
    "    train_bar = tqdm(train_loader, desc=f'Epoch {epoch+1}/{num_epochs} [Training]')\n",
    "    for data, labels in train_bar:\n",
    "        data, labels = data.to(device), labels.to(device)\n",
    "\n",
    "        # Forward pass\n",
    "        outputs = model(data)\n",
    "        loss = loss_function(outputs, labels)\n",
    "\n",
    "        # Backward and optimize\n",
    "        optimizer.zero_grad()\n",
    "        loss.backward()\n",
    "        optimizer.step()\n",
    "\n",
    "        # Update the progress bar\n",
    "        train_bar.set_postfix(loss=loss.item())\n",
    "\n",
    "    # Validate the model\n",
    "    model.eval()\n",
    "    validation_loss = 0\n",
    "    with torch.no_grad():\n",
    "        for data, labels in test_loader:\n",
    "            data, labels = data.to(device), labels.to(device)\n",
    "            outputs = model(data)\n",
    "            loss = loss_function(outputs, labels)\n",
    "            validation_loss += loss.item() * data.size(0)\n",
    "    validation_loss /= len(test_loader.dataset)\n",
    "\n",
    "    # Step the scheduler\n",
    "    scheduler.step(validation_loss)\n",
    "\n",
    "    # Test the model\n",
    "    test_bar = tqdm(test_loader, desc=f'Epoch {epoch+1}/{num_epochs} [Testing]')\n",
    "    with torch.no_grad():\n",
    "        correct = 0\n",
    "        total = 0\n",
    "        for images, labels in test_bar:\n",
    "            images, labels = images.to(device), labels.to(device)\n",
    "            outputs = model(images)\n",
    "            _, predicted = torch.max(outputs.data, 1)\n",
    "            total += labels.size(0)\n",
    "            correct += (predicted == labels).sum().item()\n",
    "\n",
    "        accuracy = 100 * correct / total\n",
    "        test_bar.set_postfix(accuracy=f'{accuracy:.2f}%')\n",
    "\n",
    "    print(f'Accuracy of the model on the validation set: {accuracy:.2f}%')\n",
    "\n",
    "# Save the model checkpoint\n",
    "torch.save(model.state_dict(), 'model.ckpt')\n",
    "'''"
   ]
  },
  {
   "cell_type": "code",
   "execution_count": 17,
   "id": "748aa5bc",
   "metadata": {
    "execution": {
     "iopub.execute_input": "2024-04-12T03:28:18.098948Z",
     "iopub.status.busy": "2024-04-12T03:28:18.098663Z",
     "iopub.status.idle": "2024-04-12T07:16:24.509967Z",
     "shell.execute_reply": "2024-04-12T07:16:24.508905Z"
    },
    "papermill": {
     "duration": 13686.421963,
     "end_time": "2024-04-12T07:16:24.512108",
     "exception": false,
     "start_time": "2024-04-12T03:28:18.090145",
     "status": "completed"
    },
    "tags": []
   },
   "outputs": [
    {
     "name": "stderr",
     "output_type": "stream",
     "text": [
      "Epoch 1/300 [Training]: 100%|██████████| 98/98 [01:06<00:00,  1.47it/s, loss=1.53]\n",
      "Epoch 1/300 [Validation]: 100%|██████████| 20/20 [00:10<00:00,  1.90it/s]\n"
     ]
    },
    {
     "name": "stdout",
     "output_type": "stream",
     "text": [
      "Epoch 1: Validation Loss: 1.5833, Accuracy: 43.94%\n",
      "Validation loss decreased (inf to 1.583274).  Saving model to checkpoint.pt\n"
     ]
    },
    {
     "name": "stderr",
     "output_type": "stream",
     "text": [
      "Epoch 2/300 [Training]: 100%|██████████| 98/98 [01:05<00:00,  1.49it/s, loss=1.03]\n",
      "Epoch 2/300 [Validation]: 100%|██████████| 20/20 [00:10<00:00,  1.91it/s]\n"
     ]
    },
    {
     "name": "stdout",
     "output_type": "stream",
     "text": [
      "Epoch 2: Validation Loss: 1.2547, Accuracy: 55.43%\n",
      "Validation loss decreased (1.583274 to 1.254721).  Saving model to checkpoint.pt\n"
     ]
    },
    {
     "name": "stderr",
     "output_type": "stream",
     "text": [
      "Epoch 3/300 [Training]: 100%|██████████| 98/98 [01:05<00:00,  1.49it/s, loss=1]\n",
      "Epoch 3/300 [Validation]: 100%|██████████| 20/20 [00:10<00:00,  1.91it/s]\n"
     ]
    },
    {
     "name": "stdout",
     "output_type": "stream",
     "text": [
      "Epoch 3: Validation Loss: 1.1893, Accuracy: 58.36%\n",
      "Validation loss decreased (1.254721 to 1.189272).  Saving model to checkpoint.pt\n"
     ]
    },
    {
     "name": "stderr",
     "output_type": "stream",
     "text": [
      "Epoch 4/300 [Training]: 100%|██████████| 98/98 [01:06<00:00,  1.48it/s, loss=0.889]\n",
      "Epoch 4/300 [Validation]: 100%|██████████| 20/20 [00:10<00:00,  1.91it/s]\n"
     ]
    },
    {
     "name": "stdout",
     "output_type": "stream",
     "text": [
      "Epoch 4: Validation Loss: 1.0186, Accuracy: 64.31%\n",
      "Validation loss decreased (1.189272 to 1.018633).  Saving model to checkpoint.pt\n"
     ]
    },
    {
     "name": "stderr",
     "output_type": "stream",
     "text": [
      "Epoch 5/300 [Training]: 100%|██████████| 98/98 [01:05<00:00,  1.49it/s, loss=0.771]\n",
      "Epoch 5/300 [Validation]: 100%|██████████| 20/20 [00:10<00:00,  1.92it/s]\n"
     ]
    },
    {
     "name": "stdout",
     "output_type": "stream",
     "text": [
      "Epoch 5: Validation Loss: 0.8491, Accuracy: 70.66%\n",
      "Validation loss decreased (1.018633 to 0.849134).  Saving model to checkpoint.pt\n"
     ]
    },
    {
     "name": "stderr",
     "output_type": "stream",
     "text": [
      "Epoch 6/300 [Training]: 100%|██████████| 98/98 [01:05<00:00,  1.49it/s, loss=0.771]\n",
      "Epoch 6/300 [Validation]: 100%|██████████| 20/20 [00:10<00:00,  1.92it/s]\n"
     ]
    },
    {
     "name": "stdout",
     "output_type": "stream",
     "text": [
      "Epoch 6: Validation Loss: 0.8779, Accuracy: 69.63%\n",
      "EarlyStopping counter: 1 out of 40\n"
     ]
    },
    {
     "name": "stderr",
     "output_type": "stream",
     "text": [
      "Epoch 7/300 [Training]: 100%|██████████| 98/98 [01:05<00:00,  1.49it/s, loss=0.791]\n",
      "Epoch 7/300 [Validation]: 100%|██████████| 20/20 [00:10<00:00,  1.90it/s]\n"
     ]
    },
    {
     "name": "stdout",
     "output_type": "stream",
     "text": [
      "Epoch 7: Validation Loss: 0.7795, Accuracy: 72.83%\n",
      "Validation loss decreased (0.849134 to 0.779514).  Saving model to checkpoint.pt\n"
     ]
    },
    {
     "name": "stderr",
     "output_type": "stream",
     "text": [
      "Epoch 8/300 [Training]: 100%|██████████| 98/98 [01:05<00:00,  1.50it/s, loss=0.634]\n",
      "Epoch 8/300 [Validation]: 100%|██████████| 20/20 [00:10<00:00,  1.92it/s]\n"
     ]
    },
    {
     "name": "stdout",
     "output_type": "stream",
     "text": [
      "Epoch 8: Validation Loss: 0.7507, Accuracy: 74.03%\n",
      "Validation loss decreased (0.779514 to 0.750678).  Saving model to checkpoint.pt\n"
     ]
    },
    {
     "name": "stderr",
     "output_type": "stream",
     "text": [
      "Epoch 9/300 [Training]: 100%|██████████| 98/98 [01:05<00:00,  1.50it/s, loss=0.692]\n",
      "Epoch 9/300 [Validation]: 100%|██████████| 20/20 [00:10<00:00,  1.94it/s]\n"
     ]
    },
    {
     "name": "stdout",
     "output_type": "stream",
     "text": [
      "Epoch 9: Validation Loss: 0.7026, Accuracy: 75.91%\n",
      "Validation loss decreased (0.750678 to 0.702611).  Saving model to checkpoint.pt\n"
     ]
    },
    {
     "name": "stderr",
     "output_type": "stream",
     "text": [
      "Epoch 10/300 [Training]: 100%|██████████| 98/98 [01:05<00:00,  1.50it/s, loss=0.523]\n",
      "Epoch 10/300 [Validation]: 100%|██████████| 20/20 [00:10<00:00,  1.90it/s]\n"
     ]
    },
    {
     "name": "stdout",
     "output_type": "stream",
     "text": [
      "Epoch 10: Validation Loss: 0.6843, Accuracy: 75.84%\n",
      "Validation loss decreased (0.702611 to 0.684299).  Saving model to checkpoint.pt\n"
     ]
    },
    {
     "name": "stderr",
     "output_type": "stream",
     "text": [
      "Epoch 11/300 [Training]: 100%|██████████| 98/98 [01:05<00:00,  1.49it/s, loss=0.66]\n",
      "Epoch 11/300 [Validation]: 100%|██████████| 20/20 [00:10<00:00,  1.94it/s]\n"
     ]
    },
    {
     "name": "stdout",
     "output_type": "stream",
     "text": [
      "Epoch 11: Validation Loss: 0.6478, Accuracy: 77.89%\n",
      "Validation loss decreased (0.684299 to 0.647832).  Saving model to checkpoint.pt\n"
     ]
    },
    {
     "name": "stderr",
     "output_type": "stream",
     "text": [
      "Epoch 12/300 [Training]: 100%|██████████| 98/98 [01:05<00:00,  1.49it/s, loss=0.543]\n",
      "Epoch 12/300 [Validation]: 100%|██████████| 20/20 [00:11<00:00,  1.80it/s]\n"
     ]
    },
    {
     "name": "stdout",
     "output_type": "stream",
     "text": [
      "Epoch 12: Validation Loss: 0.6102, Accuracy: 79.40%\n",
      "Validation loss decreased (0.647832 to 0.610181).  Saving model to checkpoint.pt\n"
     ]
    },
    {
     "name": "stderr",
     "output_type": "stream",
     "text": [
      "Epoch 13/300 [Training]: 100%|██████████| 98/98 [01:07<00:00,  1.45it/s, loss=0.497]\n",
      "Epoch 13/300 [Validation]: 100%|██████████| 20/20 [00:10<00:00,  1.89it/s]\n"
     ]
    },
    {
     "name": "stdout",
     "output_type": "stream",
     "text": [
      "Epoch 13: Validation Loss: 0.6442, Accuracy: 78.46%\n",
      "EarlyStopping counter: 1 out of 40\n"
     ]
    },
    {
     "name": "stderr",
     "output_type": "stream",
     "text": [
      "Epoch 14/300 [Training]: 100%|██████████| 98/98 [01:06<00:00,  1.48it/s, loss=0.512]\n",
      "Epoch 14/300 [Validation]: 100%|██████████| 20/20 [00:10<00:00,  1.90it/s]\n"
     ]
    },
    {
     "name": "stdout",
     "output_type": "stream",
     "text": [
      "Epoch 14: Validation Loss: 0.6049, Accuracy: 78.89%\n",
      "Validation loss decreased (0.610181 to 0.604868).  Saving model to checkpoint.pt\n"
     ]
    },
    {
     "name": "stderr",
     "output_type": "stream",
     "text": [
      "Epoch 15/300 [Training]: 100%|██████████| 98/98 [01:05<00:00,  1.49it/s, loss=0.647]\n",
      "Epoch 15/300 [Validation]: 100%|██████████| 20/20 [00:10<00:00,  1.93it/s]\n"
     ]
    },
    {
     "name": "stdout",
     "output_type": "stream",
     "text": [
      "Epoch 15: Validation Loss: 0.6500, Accuracy: 77.77%\n",
      "EarlyStopping counter: 1 out of 40\n"
     ]
    },
    {
     "name": "stderr",
     "output_type": "stream",
     "text": [
      "Epoch 16/300 [Training]: 100%|██████████| 98/98 [01:06<00:00,  1.48it/s, loss=0.401]\n",
      "Epoch 16/300 [Validation]: 100%|██████████| 20/20 [00:10<00:00,  1.90it/s]\n"
     ]
    },
    {
     "name": "stdout",
     "output_type": "stream",
     "text": [
      "Epoch 16: Validation Loss: 0.5938, Accuracy: 79.83%\n",
      "Validation loss decreased (0.604868 to 0.593824).  Saving model to checkpoint.pt\n"
     ]
    },
    {
     "name": "stderr",
     "output_type": "stream",
     "text": [
      "Epoch 17/300 [Training]: 100%|██████████| 98/98 [01:05<00:00,  1.49it/s, loss=0.485]\n",
      "Epoch 17/300 [Validation]: 100%|██████████| 20/20 [00:10<00:00,  1.90it/s]\n"
     ]
    },
    {
     "name": "stdout",
     "output_type": "stream",
     "text": [
      "Epoch 17: Validation Loss: 0.5315, Accuracy: 82.02%\n",
      "Validation loss decreased (0.593824 to 0.531524).  Saving model to checkpoint.pt\n"
     ]
    },
    {
     "name": "stderr",
     "output_type": "stream",
     "text": [
      "Epoch 18/300 [Training]: 100%|██████████| 98/98 [01:05<00:00,  1.49it/s, loss=0.551]\n",
      "Epoch 18/300 [Validation]: 100%|██████████| 20/20 [00:10<00:00,  1.92it/s]\n"
     ]
    },
    {
     "name": "stdout",
     "output_type": "stream",
     "text": [
      "Epoch 18: Validation Loss: 0.5403, Accuracy: 81.07%\n",
      "EarlyStopping counter: 1 out of 40\n"
     ]
    },
    {
     "name": "stderr",
     "output_type": "stream",
     "text": [
      "Epoch 19/300 [Training]: 100%|██████████| 98/98 [01:06<00:00,  1.48it/s, loss=0.427]\n",
      "Epoch 19/300 [Validation]: 100%|██████████| 20/20 [00:10<00:00,  1.93it/s]\n"
     ]
    },
    {
     "name": "stdout",
     "output_type": "stream",
     "text": [
      "Epoch 19: Validation Loss: 0.5944, Accuracy: 80.48%\n",
      "EarlyStopping counter: 2 out of 40\n"
     ]
    },
    {
     "name": "stderr",
     "output_type": "stream",
     "text": [
      "Epoch 20/300 [Training]: 100%|██████████| 98/98 [01:05<00:00,  1.49it/s, loss=0.483]\n",
      "Epoch 20/300 [Validation]: 100%|██████████| 20/20 [00:10<00:00,  1.91it/s]\n"
     ]
    },
    {
     "name": "stdout",
     "output_type": "stream",
     "text": [
      "Epoch 20: Validation Loss: 0.5898, Accuracy: 79.99%\n",
      "EarlyStopping counter: 3 out of 40\n"
     ]
    },
    {
     "name": "stderr",
     "output_type": "stream",
     "text": [
      "Epoch 21/300 [Training]: 100%|██████████| 98/98 [01:05<00:00,  1.49it/s, loss=0.512]\n",
      "Epoch 21/300 [Validation]: 100%|██████████| 20/20 [00:10<00:00,  1.91it/s]\n"
     ]
    },
    {
     "name": "stdout",
     "output_type": "stream",
     "text": [
      "Epoch 21: Validation Loss: 0.6096, Accuracy: 79.32%\n",
      "EarlyStopping counter: 4 out of 40\n"
     ]
    },
    {
     "name": "stderr",
     "output_type": "stream",
     "text": [
      "Epoch 22/300 [Training]: 100%|██████████| 98/98 [01:05<00:00,  1.49it/s, loss=0.466]\n",
      "Epoch 22/300 [Validation]: 100%|██████████| 20/20 [00:10<00:00,  1.92it/s]\n"
     ]
    },
    {
     "name": "stdout",
     "output_type": "stream",
     "text": [
      "Epoch 22: Validation Loss: 0.5898, Accuracy: 80.41%\n",
      "EarlyStopping counter: 5 out of 40\n"
     ]
    },
    {
     "name": "stderr",
     "output_type": "stream",
     "text": [
      "Epoch 23/300 [Training]: 100%|██████████| 98/98 [01:05<00:00,  1.49it/s, loss=0.459]\n",
      "Epoch 23/300 [Validation]: 100%|██████████| 20/20 [00:10<00:00,  1.91it/s]\n"
     ]
    },
    {
     "name": "stdout",
     "output_type": "stream",
     "text": [
      "Epoch 23: Validation Loss: 0.5340, Accuracy: 82.40%\n",
      "EarlyStopping counter: 6 out of 40\n"
     ]
    },
    {
     "name": "stderr",
     "output_type": "stream",
     "text": [
      "Epoch 24/300 [Training]: 100%|██████████| 98/98 [01:05<00:00,  1.49it/s, loss=0.458]\n",
      "Epoch 24/300 [Validation]: 100%|██████████| 20/20 [00:10<00:00,  1.92it/s]\n"
     ]
    },
    {
     "name": "stdout",
     "output_type": "stream",
     "text": [
      "Epoch 24: Validation Loss: 0.5088, Accuracy: 82.79%\n",
      "Validation loss decreased (0.531524 to 0.508796).  Saving model to checkpoint.pt\n"
     ]
    },
    {
     "name": "stderr",
     "output_type": "stream",
     "text": [
      "Epoch 25/300 [Training]: 100%|██████████| 98/98 [01:06<00:00,  1.48it/s, loss=0.353]\n",
      "Epoch 25/300 [Validation]: 100%|██████████| 20/20 [00:10<00:00,  1.90it/s]\n"
     ]
    },
    {
     "name": "stdout",
     "output_type": "stream",
     "text": [
      "Epoch 25: Validation Loss: 0.5141, Accuracy: 83.00%\n",
      "EarlyStopping counter: 1 out of 40\n"
     ]
    },
    {
     "name": "stderr",
     "output_type": "stream",
     "text": [
      "Epoch 26/300 [Training]: 100%|██████████| 98/98 [01:05<00:00,  1.49it/s, loss=0.47]\n",
      "Epoch 26/300 [Validation]: 100%|██████████| 20/20 [00:10<00:00,  1.91it/s]\n"
     ]
    },
    {
     "name": "stdout",
     "output_type": "stream",
     "text": [
      "Epoch 26: Validation Loss: 0.4787, Accuracy: 83.89%\n",
      "Validation loss decreased (0.508796 to 0.478722).  Saving model to checkpoint.pt\n"
     ]
    },
    {
     "name": "stderr",
     "output_type": "stream",
     "text": [
      "Epoch 27/300 [Training]: 100%|██████████| 98/98 [01:05<00:00,  1.49it/s, loss=0.363]\n",
      "Epoch 27/300 [Validation]: 100%|██████████| 20/20 [00:10<00:00,  1.93it/s]\n"
     ]
    },
    {
     "name": "stdout",
     "output_type": "stream",
     "text": [
      "Epoch 27: Validation Loss: 0.5112, Accuracy: 82.18%\n",
      "EarlyStopping counter: 1 out of 40\n"
     ]
    },
    {
     "name": "stderr",
     "output_type": "stream",
     "text": [
      "Epoch 28/300 [Training]: 100%|██████████| 98/98 [01:05<00:00,  1.49it/s, loss=0.344]\n",
      "Epoch 28/300 [Validation]: 100%|██████████| 20/20 [00:10<00:00,  1.91it/s]\n"
     ]
    },
    {
     "name": "stdout",
     "output_type": "stream",
     "text": [
      "Epoch 28: Validation Loss: 0.4644, Accuracy: 83.78%\n",
      "Validation loss decreased (0.478722 to 0.464428).  Saving model to checkpoint.pt\n"
     ]
    },
    {
     "name": "stderr",
     "output_type": "stream",
     "text": [
      "Epoch 29/300 [Training]: 100%|██████████| 98/98 [01:05<00:00,  1.49it/s, loss=0.393]\n",
      "Epoch 29/300 [Validation]: 100%|██████████| 20/20 [00:10<00:00,  1.92it/s]\n"
     ]
    },
    {
     "name": "stdout",
     "output_type": "stream",
     "text": [
      "Epoch 29: Validation Loss: 0.4674, Accuracy: 84.25%\n",
      "EarlyStopping counter: 1 out of 40\n"
     ]
    },
    {
     "name": "stderr",
     "output_type": "stream",
     "text": [
      "Epoch 30/300 [Training]: 100%|██████████| 98/98 [01:05<00:00,  1.49it/s, loss=0.305]\n",
      "Epoch 30/300 [Validation]: 100%|██████████| 20/20 [00:10<00:00,  1.90it/s]\n"
     ]
    },
    {
     "name": "stdout",
     "output_type": "stream",
     "text": [
      "Epoch 30: Validation Loss: 0.4768, Accuracy: 84.03%\n",
      "EarlyStopping counter: 2 out of 40\n"
     ]
    },
    {
     "name": "stderr",
     "output_type": "stream",
     "text": [
      "Epoch 31/300 [Training]: 100%|██████████| 98/98 [01:05<00:00,  1.49it/s, loss=0.386]\n",
      "Epoch 31/300 [Validation]: 100%|██████████| 20/20 [00:10<00:00,  1.93it/s]\n"
     ]
    },
    {
     "name": "stdout",
     "output_type": "stream",
     "text": [
      "Epoch 31: Validation Loss: 0.4618, Accuracy: 84.85%\n",
      "Validation loss decreased (0.464428 to 0.461809).  Saving model to checkpoint.pt\n"
     ]
    },
    {
     "name": "stderr",
     "output_type": "stream",
     "text": [
      "Epoch 32/300 [Training]: 100%|██████████| 98/98 [01:05<00:00,  1.49it/s, loss=0.374]\n",
      "Epoch 32/300 [Validation]: 100%|██████████| 20/20 [00:10<00:00,  1.91it/s]\n"
     ]
    },
    {
     "name": "stdout",
     "output_type": "stream",
     "text": [
      "Epoch 32: Validation Loss: 0.5319, Accuracy: 82.41%\n",
      "EarlyStopping counter: 1 out of 40\n"
     ]
    },
    {
     "name": "stderr",
     "output_type": "stream",
     "text": [
      "Epoch 33/300 [Training]: 100%|██████████| 98/98 [01:05<00:00,  1.49it/s, loss=0.311]\n",
      "Epoch 33/300 [Validation]: 100%|██████████| 20/20 [00:10<00:00,  1.93it/s]\n"
     ]
    },
    {
     "name": "stdout",
     "output_type": "stream",
     "text": [
      "Epoch 33: Validation Loss: 0.4692, Accuracy: 84.32%\n",
      "EarlyStopping counter: 2 out of 40\n"
     ]
    },
    {
     "name": "stderr",
     "output_type": "stream",
     "text": [
      "Epoch 34/300 [Training]: 100%|██████████| 98/98 [01:05<00:00,  1.49it/s, loss=0.511]\n",
      "Epoch 34/300 [Validation]: 100%|██████████| 20/20 [00:10<00:00,  1.90it/s]\n"
     ]
    },
    {
     "name": "stdout",
     "output_type": "stream",
     "text": [
      "Epoch 34: Validation Loss: 0.4354, Accuracy: 85.05%\n",
      "Validation loss decreased (0.461809 to 0.435378).  Saving model to checkpoint.pt\n"
     ]
    },
    {
     "name": "stderr",
     "output_type": "stream",
     "text": [
      "Epoch 35/300 [Training]: 100%|██████████| 98/98 [01:05<00:00,  1.49it/s, loss=0.44]\n",
      "Epoch 35/300 [Validation]: 100%|██████████| 20/20 [00:10<00:00,  1.90it/s]\n"
     ]
    },
    {
     "name": "stdout",
     "output_type": "stream",
     "text": [
      "Epoch 35: Validation Loss: 0.4324, Accuracy: 85.30%\n",
      "Validation loss decreased (0.435378 to 0.432423).  Saving model to checkpoint.pt\n"
     ]
    },
    {
     "name": "stderr",
     "output_type": "stream",
     "text": [
      "Epoch 36/300 [Training]: 100%|██████████| 98/98 [01:05<00:00,  1.49it/s, loss=0.338]\n",
      "Epoch 36/300 [Validation]: 100%|██████████| 20/20 [00:10<00:00,  1.89it/s]\n"
     ]
    },
    {
     "name": "stdout",
     "output_type": "stream",
     "text": [
      "Epoch 36: Validation Loss: 0.4321, Accuracy: 85.50%\n",
      "Validation loss decreased (0.432423 to 0.432055).  Saving model to checkpoint.pt\n"
     ]
    },
    {
     "name": "stderr",
     "output_type": "stream",
     "text": [
      "Epoch 37/300 [Training]: 100%|██████████| 98/98 [01:05<00:00,  1.49it/s, loss=0.278]\n",
      "Epoch 37/300 [Validation]: 100%|██████████| 20/20 [00:10<00:00,  1.93it/s]\n"
     ]
    },
    {
     "name": "stdout",
     "output_type": "stream",
     "text": [
      "Epoch 37: Validation Loss: 0.4191, Accuracy: 85.72%\n",
      "Validation loss decreased (0.432055 to 0.419095).  Saving model to checkpoint.pt\n"
     ]
    },
    {
     "name": "stderr",
     "output_type": "stream",
     "text": [
      "Epoch 38/300 [Training]: 100%|██████████| 98/98 [01:05<00:00,  1.49it/s, loss=0.364]\n",
      "Epoch 38/300 [Validation]: 100%|██████████| 20/20 [00:10<00:00,  1.89it/s]\n"
     ]
    },
    {
     "name": "stdout",
     "output_type": "stream",
     "text": [
      "Epoch 38: Validation Loss: 0.4335, Accuracy: 85.32%\n",
      "EarlyStopping counter: 1 out of 40\n"
     ]
    },
    {
     "name": "stderr",
     "output_type": "stream",
     "text": [
      "Epoch 39/300 [Training]: 100%|██████████| 98/98 [01:05<00:00,  1.48it/s, loss=0.26]\n",
      "Epoch 39/300 [Validation]: 100%|██████████| 20/20 [00:10<00:00,  1.89it/s]\n"
     ]
    },
    {
     "name": "stdout",
     "output_type": "stream",
     "text": [
      "Epoch 39: Validation Loss: 0.4507, Accuracy: 84.69%\n",
      "EarlyStopping counter: 2 out of 40\n"
     ]
    },
    {
     "name": "stderr",
     "output_type": "stream",
     "text": [
      "Epoch 40/300 [Training]: 100%|██████████| 98/98 [01:05<00:00,  1.49it/s, loss=0.348]\n",
      "Epoch 40/300 [Validation]: 100%|██████████| 20/20 [00:10<00:00,  1.91it/s]\n"
     ]
    },
    {
     "name": "stdout",
     "output_type": "stream",
     "text": [
      "Epoch 40: Validation Loss: 0.4298, Accuracy: 85.47%\n",
      "EarlyStopping counter: 3 out of 40\n"
     ]
    },
    {
     "name": "stderr",
     "output_type": "stream",
     "text": [
      "Epoch 41/300 [Training]: 100%|██████████| 98/98 [01:05<00:00,  1.49it/s, loss=0.373]\n",
      "Epoch 41/300 [Validation]: 100%|██████████| 20/20 [00:10<00:00,  1.93it/s]\n"
     ]
    },
    {
     "name": "stdout",
     "output_type": "stream",
     "text": [
      "Epoch 41: Validation Loss: 0.4466, Accuracy: 85.20%\n",
      "EarlyStopping counter: 4 out of 40\n"
     ]
    },
    {
     "name": "stderr",
     "output_type": "stream",
     "text": [
      "Epoch 42/300 [Training]: 100%|██████████| 98/98 [01:05<00:00,  1.49it/s, loss=0.337]\n",
      "Epoch 42/300 [Validation]: 100%|██████████| 20/20 [00:10<00:00,  1.87it/s]\n"
     ]
    },
    {
     "name": "stdout",
     "output_type": "stream",
     "text": [
      "Epoch 42: Validation Loss: 0.4283, Accuracy: 85.38%\n",
      "EarlyStopping counter: 5 out of 40\n"
     ]
    },
    {
     "name": "stderr",
     "output_type": "stream",
     "text": [
      "Epoch 43/300 [Training]: 100%|██████████| 98/98 [01:05<00:00,  1.50it/s, loss=0.319]\n",
      "Epoch 43/300 [Validation]: 100%|██████████| 20/20 [00:10<00:00,  1.92it/s]\n"
     ]
    },
    {
     "name": "stdout",
     "output_type": "stream",
     "text": [
      "Epoch 43: Validation Loss: 0.4165, Accuracy: 85.93%\n",
      "Validation loss decreased (0.419095 to 0.416490).  Saving model to checkpoint.pt\n"
     ]
    },
    {
     "name": "stderr",
     "output_type": "stream",
     "text": [
      "Epoch 44/300 [Training]: 100%|██████████| 98/98 [01:05<00:00,  1.49it/s, loss=0.311]\n",
      "Epoch 44/300 [Validation]: 100%|██████████| 20/20 [00:10<00:00,  1.88it/s]\n"
     ]
    },
    {
     "name": "stdout",
     "output_type": "stream",
     "text": [
      "Epoch 44: Validation Loss: 0.4803, Accuracy: 84.26%\n",
      "EarlyStopping counter: 1 out of 40\n"
     ]
    },
    {
     "name": "stderr",
     "output_type": "stream",
     "text": [
      "Epoch 45/300 [Training]: 100%|██████████| 98/98 [01:05<00:00,  1.49it/s, loss=0.29]\n",
      "Epoch 45/300 [Validation]: 100%|██████████| 20/20 [00:10<00:00,  1.92it/s]\n"
     ]
    },
    {
     "name": "stdout",
     "output_type": "stream",
     "text": [
      "Epoch 45: Validation Loss: 0.4517, Accuracy: 84.93%\n",
      "EarlyStopping counter: 2 out of 40\n"
     ]
    },
    {
     "name": "stderr",
     "output_type": "stream",
     "text": [
      "Epoch 46/300 [Training]: 100%|██████████| 98/98 [01:05<00:00,  1.49it/s, loss=0.344]\n",
      "Epoch 46/300 [Validation]: 100%|██████████| 20/20 [00:10<00:00,  1.90it/s]\n"
     ]
    },
    {
     "name": "stdout",
     "output_type": "stream",
     "text": [
      "Epoch 46: Validation Loss: 0.4547, Accuracy: 85.00%\n",
      "EarlyStopping counter: 3 out of 40\n"
     ]
    },
    {
     "name": "stderr",
     "output_type": "stream",
     "text": [
      "Epoch 47/300 [Training]: 100%|██████████| 98/98 [01:05<00:00,  1.49it/s, loss=0.343]\n",
      "Epoch 47/300 [Validation]: 100%|██████████| 20/20 [00:10<00:00,  1.91it/s]\n"
     ]
    },
    {
     "name": "stdout",
     "output_type": "stream",
     "text": [
      "Epoch 47: Validation Loss: 0.3919, Accuracy: 86.83%\n",
      "Validation loss decreased (0.416490 to 0.391920).  Saving model to checkpoint.pt\n"
     ]
    },
    {
     "name": "stderr",
     "output_type": "stream",
     "text": [
      "Epoch 48/300 [Training]: 100%|██████████| 98/98 [01:06<00:00,  1.47it/s, loss=0.332]\n",
      "Epoch 48/300 [Validation]: 100%|██████████| 20/20 [00:10<00:00,  1.90it/s]\n"
     ]
    },
    {
     "name": "stdout",
     "output_type": "stream",
     "text": [
      "Epoch 48: Validation Loss: 0.4173, Accuracy: 86.00%\n",
      "EarlyStopping counter: 1 out of 40\n"
     ]
    },
    {
     "name": "stderr",
     "output_type": "stream",
     "text": [
      "Epoch 49/300 [Training]: 100%|██████████| 98/98 [01:05<00:00,  1.50it/s, loss=0.304]\n",
      "Epoch 49/300 [Validation]: 100%|██████████| 20/20 [00:10<00:00,  1.93it/s]\n"
     ]
    },
    {
     "name": "stdout",
     "output_type": "stream",
     "text": [
      "Epoch 49: Validation Loss: 0.4593, Accuracy: 84.55%\n",
      "EarlyStopping counter: 2 out of 40\n"
     ]
    },
    {
     "name": "stderr",
     "output_type": "stream",
     "text": [
      "Epoch 50/300 [Training]: 100%|██████████| 98/98 [01:05<00:00,  1.49it/s, loss=0.277]\n",
      "Epoch 50/300 [Validation]: 100%|██████████| 20/20 [00:10<00:00,  1.92it/s]\n"
     ]
    },
    {
     "name": "stdout",
     "output_type": "stream",
     "text": [
      "Epoch 50: Validation Loss: 0.3937, Accuracy: 86.61%\n",
      "EarlyStopping counter: 3 out of 40\n"
     ]
    },
    {
     "name": "stderr",
     "output_type": "stream",
     "text": [
      "Epoch 51/300 [Training]: 100%|██████████| 98/98 [01:05<00:00,  1.50it/s, loss=0.362]\n",
      "Epoch 51/300 [Validation]: 100%|██████████| 20/20 [00:10<00:00,  1.92it/s]\n"
     ]
    },
    {
     "name": "stdout",
     "output_type": "stream",
     "text": [
      "Epoch 51: Validation Loss: 0.4124, Accuracy: 86.51%\n",
      "EarlyStopping counter: 4 out of 40\n"
     ]
    },
    {
     "name": "stderr",
     "output_type": "stream",
     "text": [
      "Epoch 52/300 [Training]: 100%|██████████| 98/98 [01:05<00:00,  1.49it/s, loss=0.222]\n",
      "Epoch 52/300 [Validation]: 100%|██████████| 20/20 [00:10<00:00,  1.90it/s]\n"
     ]
    },
    {
     "name": "stdout",
     "output_type": "stream",
     "text": [
      "Epoch 52: Validation Loss: 0.4447, Accuracy: 85.30%\n",
      "EarlyStopping counter: 5 out of 40\n"
     ]
    },
    {
     "name": "stderr",
     "output_type": "stream",
     "text": [
      "Epoch 53/300 [Training]: 100%|██████████| 98/98 [01:07<00:00,  1.45it/s, loss=0.223]\n",
      "Epoch 53/300 [Validation]: 100%|██████████| 20/20 [00:10<00:00,  1.88it/s]\n"
     ]
    },
    {
     "name": "stdout",
     "output_type": "stream",
     "text": [
      "Epoch 53: Validation Loss: 0.4147, Accuracy: 86.27%\n",
      "EarlyStopping counter: 6 out of 40\n"
     ]
    },
    {
     "name": "stderr",
     "output_type": "stream",
     "text": [
      "Epoch 54/300 [Training]: 100%|██████████| 98/98 [01:06<00:00,  1.48it/s, loss=0.246]\n",
      "Epoch 54/300 [Validation]: 100%|██████████| 20/20 [00:10<00:00,  1.93it/s]\n"
     ]
    },
    {
     "name": "stdout",
     "output_type": "stream",
     "text": [
      "Epoch 54: Validation Loss: 0.3969, Accuracy: 86.88%\n",
      "EarlyStopping counter: 7 out of 40\n"
     ]
    },
    {
     "name": "stderr",
     "output_type": "stream",
     "text": [
      "Epoch 55/300 [Training]: 100%|██████████| 98/98 [01:05<00:00,  1.49it/s, loss=0.233]\n",
      "Epoch 55/300 [Validation]: 100%|██████████| 20/20 [00:10<00:00,  1.92it/s]\n"
     ]
    },
    {
     "name": "stdout",
     "output_type": "stream",
     "text": [
      "Epoch 55: Validation Loss: 0.4092, Accuracy: 86.68%\n",
      "EarlyStopping counter: 8 out of 40\n"
     ]
    },
    {
     "name": "stderr",
     "output_type": "stream",
     "text": [
      "Epoch 56/300 [Training]: 100%|██████████| 98/98 [01:05<00:00,  1.49it/s, loss=0.258]\n",
      "Epoch 56/300 [Validation]: 100%|██████████| 20/20 [00:10<00:00,  1.93it/s]\n"
     ]
    },
    {
     "name": "stdout",
     "output_type": "stream",
     "text": [
      "Epoch 56: Validation Loss: 0.3906, Accuracy: 87.20%\n",
      "Validation loss decreased (0.391920 to 0.390580).  Saving model to checkpoint.pt\n"
     ]
    },
    {
     "name": "stderr",
     "output_type": "stream",
     "text": [
      "Epoch 57/300 [Training]: 100%|██████████| 98/98 [01:05<00:00,  1.49it/s, loss=0.208]\n",
      "Epoch 57/300 [Validation]: 100%|██████████| 20/20 [00:10<00:00,  1.91it/s]\n"
     ]
    },
    {
     "name": "stdout",
     "output_type": "stream",
     "text": [
      "Epoch 57: Validation Loss: 0.4317, Accuracy: 86.08%\n",
      "EarlyStopping counter: 1 out of 40\n"
     ]
    },
    {
     "name": "stderr",
     "output_type": "stream",
     "text": [
      "Epoch 58/300 [Training]: 100%|██████████| 98/98 [01:05<00:00,  1.49it/s, loss=0.285]\n",
      "Epoch 58/300 [Validation]: 100%|██████████| 20/20 [00:10<00:00,  1.90it/s]\n"
     ]
    },
    {
     "name": "stdout",
     "output_type": "stream",
     "text": [
      "Epoch 58: Validation Loss: 0.4216, Accuracy: 86.26%\n",
      "EarlyStopping counter: 2 out of 40\n"
     ]
    },
    {
     "name": "stderr",
     "output_type": "stream",
     "text": [
      "Epoch 59/300 [Training]: 100%|██████████| 98/98 [01:05<00:00,  1.49it/s, loss=0.243]\n",
      "Epoch 59/300 [Validation]: 100%|██████████| 20/20 [00:10<00:00,  1.93it/s]\n"
     ]
    },
    {
     "name": "stdout",
     "output_type": "stream",
     "text": [
      "Epoch 59: Validation Loss: 0.4179, Accuracy: 86.63%\n",
      "EarlyStopping counter: 3 out of 40\n"
     ]
    },
    {
     "name": "stderr",
     "output_type": "stream",
     "text": [
      "Epoch 60/300 [Training]: 100%|██████████| 98/98 [01:06<00:00,  1.48it/s, loss=0.24]\n",
      "Epoch 60/300 [Validation]: 100%|██████████| 20/20 [00:10<00:00,  1.91it/s]\n"
     ]
    },
    {
     "name": "stdout",
     "output_type": "stream",
     "text": [
      "Epoch 60: Validation Loss: 0.3883, Accuracy: 87.21%\n",
      "Validation loss decreased (0.390580 to 0.388346).  Saving model to checkpoint.pt\n"
     ]
    },
    {
     "name": "stderr",
     "output_type": "stream",
     "text": [
      "Epoch 61/300 [Training]: 100%|██████████| 98/98 [01:05<00:00,  1.49it/s, loss=0.223]\n",
      "Epoch 61/300 [Validation]: 100%|██████████| 20/20 [00:10<00:00,  1.93it/s]\n"
     ]
    },
    {
     "name": "stdout",
     "output_type": "stream",
     "text": [
      "Epoch 61: Validation Loss: 0.4261, Accuracy: 86.48%\n",
      "EarlyStopping counter: 1 out of 40\n"
     ]
    },
    {
     "name": "stderr",
     "output_type": "stream",
     "text": [
      "Epoch 62/300 [Training]: 100%|██████████| 98/98 [01:05<00:00,  1.49it/s, loss=0.257]\n",
      "Epoch 62/300 [Validation]: 100%|██████████| 20/20 [00:10<00:00,  1.88it/s]\n"
     ]
    },
    {
     "name": "stdout",
     "output_type": "stream",
     "text": [
      "Epoch 62: Validation Loss: 0.4153, Accuracy: 86.02%\n",
      "EarlyStopping counter: 2 out of 40\n"
     ]
    },
    {
     "name": "stderr",
     "output_type": "stream",
     "text": [
      "Epoch 63/300 [Training]: 100%|██████████| 98/98 [01:05<00:00,  1.49it/s, loss=0.292]\n",
      "Epoch 63/300 [Validation]: 100%|██████████| 20/20 [00:10<00:00,  1.93it/s]\n"
     ]
    },
    {
     "name": "stdout",
     "output_type": "stream",
     "text": [
      "Epoch 63: Validation Loss: 0.3821, Accuracy: 87.73%\n",
      "Validation loss decreased (0.388346 to 0.382110).  Saving model to checkpoint.pt\n"
     ]
    },
    {
     "name": "stderr",
     "output_type": "stream",
     "text": [
      "Epoch 64/300 [Training]: 100%|██████████| 98/98 [01:05<00:00,  1.49it/s, loss=0.285]\n",
      "Epoch 64/300 [Validation]: 100%|██████████| 20/20 [00:10<00:00,  1.89it/s]\n"
     ]
    },
    {
     "name": "stdout",
     "output_type": "stream",
     "text": [
      "Epoch 64: Validation Loss: 0.3818, Accuracy: 87.52%\n",
      "Validation loss decreased (0.382110 to 0.381770).  Saving model to checkpoint.pt\n"
     ]
    },
    {
     "name": "stderr",
     "output_type": "stream",
     "text": [
      "Epoch 65/300 [Training]: 100%|██████████| 98/98 [01:05<00:00,  1.49it/s, loss=0.229]\n",
      "Epoch 65/300 [Validation]: 100%|██████████| 20/20 [00:10<00:00,  1.93it/s]\n"
     ]
    },
    {
     "name": "stdout",
     "output_type": "stream",
     "text": [
      "Epoch 65: Validation Loss: 0.4065, Accuracy: 86.78%\n",
      "EarlyStopping counter: 1 out of 40\n"
     ]
    },
    {
     "name": "stderr",
     "output_type": "stream",
     "text": [
      "Epoch 66/300 [Training]: 100%|██████████| 98/98 [01:05<00:00,  1.49it/s, loss=0.206]\n",
      "Epoch 66/300 [Validation]: 100%|██████████| 20/20 [00:10<00:00,  1.91it/s]\n"
     ]
    },
    {
     "name": "stdout",
     "output_type": "stream",
     "text": [
      "Epoch 66: Validation Loss: 0.3801, Accuracy: 87.68%\n",
      "Validation loss decreased (0.381770 to 0.380124).  Saving model to checkpoint.pt\n"
     ]
    },
    {
     "name": "stderr",
     "output_type": "stream",
     "text": [
      "Epoch 67/300 [Training]: 100%|██████████| 98/98 [01:05<00:00,  1.49it/s, loss=0.241]\n",
      "Epoch 67/300 [Validation]: 100%|██████████| 20/20 [00:10<00:00,  1.92it/s]\n"
     ]
    },
    {
     "name": "stdout",
     "output_type": "stream",
     "text": [
      "Epoch 67: Validation Loss: 0.3734, Accuracy: 87.64%\n",
      "Validation loss decreased (0.380124 to 0.373392).  Saving model to checkpoint.pt\n"
     ]
    },
    {
     "name": "stderr",
     "output_type": "stream",
     "text": [
      "Epoch 68/300 [Training]: 100%|██████████| 98/98 [01:06<00:00,  1.48it/s, loss=0.291]\n",
      "Epoch 68/300 [Validation]: 100%|██████████| 20/20 [00:10<00:00,  1.92it/s]\n"
     ]
    },
    {
     "name": "stdout",
     "output_type": "stream",
     "text": [
      "Epoch 68: Validation Loss: 0.3771, Accuracy: 87.62%\n",
      "EarlyStopping counter: 1 out of 40\n"
     ]
    },
    {
     "name": "stderr",
     "output_type": "stream",
     "text": [
      "Epoch 69/300 [Training]: 100%|██████████| 98/98 [01:05<00:00,  1.49it/s, loss=0.191]\n",
      "Epoch 69/300 [Validation]: 100%|██████████| 20/20 [00:10<00:00,  1.87it/s]\n"
     ]
    },
    {
     "name": "stdout",
     "output_type": "stream",
     "text": [
      "Epoch 69: Validation Loss: 0.3869, Accuracy: 88.01%\n",
      "EarlyStopping counter: 2 out of 40\n"
     ]
    },
    {
     "name": "stderr",
     "output_type": "stream",
     "text": [
      "Epoch 70/300 [Training]: 100%|██████████| 98/98 [01:06<00:00,  1.48it/s, loss=0.221]\n",
      "Epoch 70/300 [Validation]: 100%|██████████| 20/20 [00:10<00:00,  1.90it/s]\n"
     ]
    },
    {
     "name": "stdout",
     "output_type": "stream",
     "text": [
      "Epoch 70: Validation Loss: 0.4047, Accuracy: 87.08%\n",
      "EarlyStopping counter: 3 out of 40\n"
     ]
    },
    {
     "name": "stderr",
     "output_type": "stream",
     "text": [
      "Epoch 71/300 [Training]: 100%|██████████| 98/98 [01:06<00:00,  1.47it/s, loss=0.211]\n",
      "Epoch 71/300 [Validation]: 100%|██████████| 20/20 [00:10<00:00,  1.91it/s]\n"
     ]
    },
    {
     "name": "stdout",
     "output_type": "stream",
     "text": [
      "Epoch 71: Validation Loss: 0.3971, Accuracy: 87.23%\n",
      "EarlyStopping counter: 4 out of 40\n"
     ]
    },
    {
     "name": "stderr",
     "output_type": "stream",
     "text": [
      "Epoch 72/300 [Training]: 100%|██████████| 98/98 [01:07<00:00,  1.46it/s, loss=0.21]\n",
      "Epoch 72/300 [Validation]: 100%|██████████| 20/20 [00:11<00:00,  1.79it/s]\n"
     ]
    },
    {
     "name": "stdout",
     "output_type": "stream",
     "text": [
      "Epoch 72: Validation Loss: 0.3883, Accuracy: 87.44%\n",
      "EarlyStopping counter: 5 out of 40\n"
     ]
    },
    {
     "name": "stderr",
     "output_type": "stream",
     "text": [
      "Epoch 73/300 [Training]: 100%|██████████| 98/98 [01:08<00:00,  1.43it/s, loss=0.171]\n",
      "Epoch 73/300 [Validation]: 100%|██████████| 20/20 [00:10<00:00,  1.84it/s]\n"
     ]
    },
    {
     "name": "stdout",
     "output_type": "stream",
     "text": [
      "Epoch 73: Validation Loss: 0.3978, Accuracy: 87.15%\n",
      "EarlyStopping counter: 6 out of 40\n"
     ]
    },
    {
     "name": "stderr",
     "output_type": "stream",
     "text": [
      "Epoch 74/300 [Training]: 100%|██████████| 98/98 [01:06<00:00,  1.47it/s, loss=0.243]\n",
      "Epoch 74/300 [Validation]: 100%|██████████| 20/20 [00:10<00:00,  1.90it/s]\n"
     ]
    },
    {
     "name": "stdout",
     "output_type": "stream",
     "text": [
      "Epoch 74: Validation Loss: 0.3973, Accuracy: 87.29%\n",
      "EarlyStopping counter: 7 out of 40\n"
     ]
    },
    {
     "name": "stderr",
     "output_type": "stream",
     "text": [
      "Epoch 75/300 [Training]: 100%|██████████| 98/98 [01:06<00:00,  1.48it/s, loss=0.221]\n",
      "Epoch 75/300 [Validation]: 100%|██████████| 20/20 [00:10<00:00,  1.88it/s]\n"
     ]
    },
    {
     "name": "stdout",
     "output_type": "stream",
     "text": [
      "Epoch 75: Validation Loss: 0.3598, Accuracy: 88.60%\n",
      "Validation loss decreased (0.373392 to 0.359750).  Saving model to checkpoint.pt\n"
     ]
    },
    {
     "name": "stderr",
     "output_type": "stream",
     "text": [
      "Epoch 76/300 [Training]: 100%|██████████| 98/98 [01:06<00:00,  1.48it/s, loss=0.243]\n",
      "Epoch 76/300 [Validation]: 100%|██████████| 20/20 [00:10<00:00,  1.90it/s]\n"
     ]
    },
    {
     "name": "stdout",
     "output_type": "stream",
     "text": [
      "Epoch 76: Validation Loss: 0.3957, Accuracy: 87.29%\n",
      "EarlyStopping counter: 1 out of 40\n"
     ]
    },
    {
     "name": "stderr",
     "output_type": "stream",
     "text": [
      "Epoch 77/300 [Training]: 100%|██████████| 98/98 [01:06<00:00,  1.48it/s, loss=0.285]\n",
      "Epoch 77/300 [Validation]: 100%|██████████| 20/20 [00:10<00:00,  1.91it/s]\n"
     ]
    },
    {
     "name": "stdout",
     "output_type": "stream",
     "text": [
      "Epoch 77: Validation Loss: 0.3985, Accuracy: 87.18%\n",
      "EarlyStopping counter: 2 out of 40\n"
     ]
    },
    {
     "name": "stderr",
     "output_type": "stream",
     "text": [
      "Epoch 78/300 [Training]: 100%|██████████| 98/98 [01:06<00:00,  1.47it/s, loss=0.226]\n",
      "Epoch 78/300 [Validation]: 100%|██████████| 20/20 [00:10<00:00,  1.88it/s]\n"
     ]
    },
    {
     "name": "stdout",
     "output_type": "stream",
     "text": [
      "Epoch 78: Validation Loss: 0.4163, Accuracy: 86.51%\n",
      "EarlyStopping counter: 3 out of 40\n"
     ]
    },
    {
     "name": "stderr",
     "output_type": "stream",
     "text": [
      "Epoch 79/300 [Training]: 100%|██████████| 98/98 [01:06<00:00,  1.48it/s, loss=0.28]\n",
      "Epoch 79/300 [Validation]: 100%|██████████| 20/20 [00:10<00:00,  1.91it/s]\n"
     ]
    },
    {
     "name": "stdout",
     "output_type": "stream",
     "text": [
      "Epoch 79: Validation Loss: 0.3986, Accuracy: 87.44%\n",
      "EarlyStopping counter: 4 out of 40\n"
     ]
    },
    {
     "name": "stderr",
     "output_type": "stream",
     "text": [
      "Epoch 80/300 [Training]: 100%|██████████| 98/98 [01:06<00:00,  1.47it/s, loss=0.221]\n",
      "Epoch 80/300 [Validation]: 100%|██████████| 20/20 [00:10<00:00,  1.89it/s]\n"
     ]
    },
    {
     "name": "stdout",
     "output_type": "stream",
     "text": [
      "Epoch 80: Validation Loss: 0.3565, Accuracy: 88.43%\n",
      "Validation loss decreased (0.359750 to 0.356458).  Saving model to checkpoint.pt\n"
     ]
    },
    {
     "name": "stderr",
     "output_type": "stream",
     "text": [
      "Epoch 81/300 [Training]: 100%|██████████| 98/98 [01:06<00:00,  1.48it/s, loss=0.176]\n",
      "Epoch 81/300 [Validation]: 100%|██████████| 20/20 [00:10<00:00,  1.90it/s]\n"
     ]
    },
    {
     "name": "stdout",
     "output_type": "stream",
     "text": [
      "Epoch 81: Validation Loss: 0.3787, Accuracy: 88.07%\n",
      "EarlyStopping counter: 1 out of 40\n"
     ]
    },
    {
     "name": "stderr",
     "output_type": "stream",
     "text": [
      "Epoch 82/300 [Training]: 100%|██████████| 98/98 [01:06<00:00,  1.47it/s, loss=0.26]\n",
      "Epoch 82/300 [Validation]: 100%|██████████| 20/20 [00:10<00:00,  1.92it/s]\n"
     ]
    },
    {
     "name": "stdout",
     "output_type": "stream",
     "text": [
      "Epoch 82: Validation Loss: 0.3588, Accuracy: 88.68%\n",
      "EarlyStopping counter: 2 out of 40\n"
     ]
    },
    {
     "name": "stderr",
     "output_type": "stream",
     "text": [
      "Epoch 83/300 [Training]: 100%|██████████| 98/98 [01:05<00:00,  1.49it/s, loss=0.197]\n",
      "Epoch 83/300 [Validation]: 100%|██████████| 20/20 [00:10<00:00,  1.90it/s]\n"
     ]
    },
    {
     "name": "stdout",
     "output_type": "stream",
     "text": [
      "Epoch 83: Validation Loss: 0.3723, Accuracy: 87.78%\n",
      "EarlyStopping counter: 3 out of 40\n"
     ]
    },
    {
     "name": "stderr",
     "output_type": "stream",
     "text": [
      "Epoch 84/300 [Training]: 100%|██████████| 98/98 [01:05<00:00,  1.49it/s, loss=0.208]\n",
      "Epoch 84/300 [Validation]: 100%|██████████| 20/20 [00:10<00:00,  1.93it/s]\n"
     ]
    },
    {
     "name": "stdout",
     "output_type": "stream",
     "text": [
      "Epoch 84: Validation Loss: 0.3900, Accuracy: 87.72%\n",
      "EarlyStopping counter: 4 out of 40\n"
     ]
    },
    {
     "name": "stderr",
     "output_type": "stream",
     "text": [
      "Epoch 85/300 [Training]: 100%|██████████| 98/98 [01:05<00:00,  1.49it/s, loss=0.203]\n",
      "Epoch 85/300 [Validation]: 100%|██████████| 20/20 [00:10<00:00,  1.89it/s]\n"
     ]
    },
    {
     "name": "stdout",
     "output_type": "stream",
     "text": [
      "Epoch 85: Validation Loss: 0.4314, Accuracy: 86.40%\n",
      "EarlyStopping counter: 5 out of 40\n"
     ]
    },
    {
     "name": "stderr",
     "output_type": "stream",
     "text": [
      "Epoch 86/300 [Training]: 100%|██████████| 98/98 [01:05<00:00,  1.49it/s, loss=0.183]\n",
      "Epoch 86/300 [Validation]: 100%|██████████| 20/20 [00:10<00:00,  1.91it/s]\n"
     ]
    },
    {
     "name": "stdout",
     "output_type": "stream",
     "text": [
      "Epoch 86: Validation Loss: 0.3965, Accuracy: 87.58%\n",
      "EarlyStopping counter: 6 out of 40\n"
     ]
    },
    {
     "name": "stderr",
     "output_type": "stream",
     "text": [
      "Epoch 87/300 [Training]: 100%|██████████| 98/98 [01:05<00:00,  1.49it/s, loss=0.239]\n",
      "Epoch 87/300 [Validation]: 100%|██████████| 20/20 [00:10<00:00,  1.92it/s]\n"
     ]
    },
    {
     "name": "stdout",
     "output_type": "stream",
     "text": [
      "Epoch 87: Validation Loss: 0.3747, Accuracy: 88.03%\n",
      "EarlyStopping counter: 7 out of 40\n"
     ]
    },
    {
     "name": "stderr",
     "output_type": "stream",
     "text": [
      "Epoch 88/300 [Training]: 100%|██████████| 98/98 [01:06<00:00,  1.48it/s, loss=0.187]\n",
      "Epoch 88/300 [Validation]: 100%|██████████| 20/20 [00:10<00:00,  1.91it/s]\n"
     ]
    },
    {
     "name": "stdout",
     "output_type": "stream",
     "text": [
      "Epoch 88: Validation Loss: 0.3635, Accuracy: 88.65%\n",
      "EarlyStopping counter: 8 out of 40\n"
     ]
    },
    {
     "name": "stderr",
     "output_type": "stream",
     "text": [
      "Epoch 89/300 [Training]: 100%|██████████| 98/98 [01:06<00:00,  1.48it/s, loss=0.13]\n",
      "Epoch 89/300 [Validation]: 100%|██████████| 20/20 [00:10<00:00,  1.91it/s]\n"
     ]
    },
    {
     "name": "stdout",
     "output_type": "stream",
     "text": [
      "Epoch 89: Validation Loss: 0.3611, Accuracy: 88.46%\n",
      "EarlyStopping counter: 9 out of 40\n"
     ]
    },
    {
     "name": "stderr",
     "output_type": "stream",
     "text": [
      "Epoch 90/300 [Training]: 100%|██████████| 98/98 [01:06<00:00,  1.47it/s, loss=0.206]\n",
      "Epoch 90/300 [Validation]: 100%|██████████| 20/20 [00:10<00:00,  1.87it/s]\n"
     ]
    },
    {
     "name": "stdout",
     "output_type": "stream",
     "text": [
      "Epoch 90: Validation Loss: 0.3534, Accuracy: 88.48%\n",
      "Validation loss decreased (0.356458 to 0.353352).  Saving model to checkpoint.pt\n"
     ]
    },
    {
     "name": "stderr",
     "output_type": "stream",
     "text": [
      "Epoch 91/300 [Training]: 100%|██████████| 98/98 [01:06<00:00,  1.47it/s, loss=0.183]\n",
      "Epoch 91/300 [Validation]: 100%|██████████| 20/20 [00:10<00:00,  1.91it/s]\n"
     ]
    },
    {
     "name": "stdout",
     "output_type": "stream",
     "text": [
      "Epoch 91: Validation Loss: 0.3598, Accuracy: 88.36%\n",
      "EarlyStopping counter: 1 out of 40\n"
     ]
    },
    {
     "name": "stderr",
     "output_type": "stream",
     "text": [
      "Epoch 92/300 [Training]: 100%|██████████| 98/98 [01:06<00:00,  1.46it/s, loss=0.144]\n",
      "Epoch 92/300 [Validation]: 100%|██████████| 20/20 [00:10<00:00,  1.91it/s]\n"
     ]
    },
    {
     "name": "stdout",
     "output_type": "stream",
     "text": [
      "Epoch 92: Validation Loss: 0.3820, Accuracy: 88.04%\n",
      "EarlyStopping counter: 2 out of 40\n"
     ]
    },
    {
     "name": "stderr",
     "output_type": "stream",
     "text": [
      "Epoch 93/300 [Training]: 100%|██████████| 98/98 [01:06<00:00,  1.47it/s, loss=0.215]\n",
      "Epoch 93/300 [Validation]: 100%|██████████| 20/20 [00:10<00:00,  1.88it/s]\n"
     ]
    },
    {
     "name": "stdout",
     "output_type": "stream",
     "text": [
      "Epoch 93: Validation Loss: 0.3760, Accuracy: 88.16%\n",
      "EarlyStopping counter: 3 out of 40\n"
     ]
    },
    {
     "name": "stderr",
     "output_type": "stream",
     "text": [
      "Epoch 94/300 [Training]: 100%|██████████| 98/98 [01:06<00:00,  1.47it/s, loss=0.209]\n",
      "Epoch 94/300 [Validation]: 100%|██████████| 20/20 [00:10<00:00,  1.88it/s]\n"
     ]
    },
    {
     "name": "stdout",
     "output_type": "stream",
     "text": [
      "Epoch 94: Validation Loss: 0.3591, Accuracy: 88.76%\n",
      "EarlyStopping counter: 4 out of 40\n"
     ]
    },
    {
     "name": "stderr",
     "output_type": "stream",
     "text": [
      "Epoch 95/300 [Training]: 100%|██████████| 98/98 [01:06<00:00,  1.47it/s, loss=0.207]\n",
      "Epoch 95/300 [Validation]: 100%|██████████| 20/20 [00:10<00:00,  1.87it/s]\n"
     ]
    },
    {
     "name": "stdout",
     "output_type": "stream",
     "text": [
      "Epoch 95: Validation Loss: 0.3864, Accuracy: 87.69%\n",
      "EarlyStopping counter: 5 out of 40\n"
     ]
    },
    {
     "name": "stderr",
     "output_type": "stream",
     "text": [
      "Epoch 96/300 [Training]: 100%|██████████| 98/98 [01:06<00:00,  1.46it/s, loss=0.177]\n",
      "Epoch 96/300 [Validation]: 100%|██████████| 20/20 [00:10<00:00,  1.91it/s]\n"
     ]
    },
    {
     "name": "stdout",
     "output_type": "stream",
     "text": [
      "Epoch 96: Validation Loss: 0.3761, Accuracy: 88.16%\n",
      "EarlyStopping counter: 6 out of 40\n"
     ]
    },
    {
     "name": "stderr",
     "output_type": "stream",
     "text": [
      "Epoch 97/300 [Training]: 100%|██████████| 98/98 [01:06<00:00,  1.47it/s, loss=0.165]\n",
      "Epoch 97/300 [Validation]: 100%|██████████| 20/20 [00:10<00:00,  1.86it/s]\n"
     ]
    },
    {
     "name": "stdout",
     "output_type": "stream",
     "text": [
      "Epoch 97: Validation Loss: 0.3765, Accuracy: 88.02%\n",
      "EarlyStopping counter: 7 out of 40\n"
     ]
    },
    {
     "name": "stderr",
     "output_type": "stream",
     "text": [
      "Epoch 98/300 [Training]: 100%|██████████| 98/98 [01:06<00:00,  1.48it/s, loss=0.19]\n",
      "Epoch 98/300 [Validation]: 100%|██████████| 20/20 [00:10<00:00,  1.92it/s]\n"
     ]
    },
    {
     "name": "stdout",
     "output_type": "stream",
     "text": [
      "Epoch 98: Validation Loss: 0.3785, Accuracy: 88.29%\n",
      "EarlyStopping counter: 8 out of 40\n"
     ]
    },
    {
     "name": "stderr",
     "output_type": "stream",
     "text": [
      "Epoch 99/300 [Training]: 100%|██████████| 98/98 [01:06<00:00,  1.47it/s, loss=0.213]\n",
      "Epoch 99/300 [Validation]: 100%|██████████| 20/20 [00:10<00:00,  1.87it/s]\n"
     ]
    },
    {
     "name": "stdout",
     "output_type": "stream",
     "text": [
      "Epoch 99: Validation Loss: 0.3873, Accuracy: 88.08%\n",
      "EarlyStopping counter: 9 out of 40\n"
     ]
    },
    {
     "name": "stderr",
     "output_type": "stream",
     "text": [
      "Epoch 100/300 [Training]: 100%|██████████| 98/98 [01:06<00:00,  1.47it/s, loss=0.119]\n",
      "Epoch 100/300 [Validation]: 100%|██████████| 20/20 [00:10<00:00,  1.90it/s]\n"
     ]
    },
    {
     "name": "stdout",
     "output_type": "stream",
     "text": [
      "Epoch 100: Validation Loss: 0.3680, Accuracy: 88.59%\n",
      "EarlyStopping counter: 10 out of 40\n"
     ]
    },
    {
     "name": "stderr",
     "output_type": "stream",
     "text": [
      "Epoch 101/300 [Training]: 100%|██████████| 98/98 [01:06<00:00,  1.47it/s, loss=0.156]\n",
      "Epoch 101/300 [Validation]: 100%|██████████| 20/20 [00:10<00:00,  1.86it/s]\n"
     ]
    },
    {
     "name": "stdout",
     "output_type": "stream",
     "text": [
      "Epoch 101: Validation Loss: 0.3479, Accuracy: 89.13%\n",
      "Validation loss decreased (0.353352 to 0.347885).  Saving model to checkpoint.pt\n"
     ]
    },
    {
     "name": "stderr",
     "output_type": "stream",
     "text": [
      "Epoch 102/300 [Training]: 100%|██████████| 98/98 [01:06<00:00,  1.47it/s, loss=0.208]\n",
      "Epoch 102/300 [Validation]: 100%|██████████| 20/20 [00:10<00:00,  1.89it/s]\n"
     ]
    },
    {
     "name": "stdout",
     "output_type": "stream",
     "text": [
      "Epoch 102: Validation Loss: 0.3536, Accuracy: 88.70%\n",
      "EarlyStopping counter: 1 out of 40\n"
     ]
    },
    {
     "name": "stderr",
     "output_type": "stream",
     "text": [
      "Epoch 103/300 [Training]: 100%|██████████| 98/98 [01:06<00:00,  1.47it/s, loss=0.18]\n",
      "Epoch 103/300 [Validation]: 100%|██████████| 20/20 [00:10<00:00,  1.86it/s]\n"
     ]
    },
    {
     "name": "stdout",
     "output_type": "stream",
     "text": [
      "Epoch 103: Validation Loss: 0.3486, Accuracy: 88.99%\n",
      "EarlyStopping counter: 2 out of 40\n"
     ]
    },
    {
     "name": "stderr",
     "output_type": "stream",
     "text": [
      "Epoch 104/300 [Training]: 100%|██████████| 98/98 [01:06<00:00,  1.47it/s, loss=0.158]\n",
      "Epoch 104/300 [Validation]: 100%|██████████| 20/20 [00:10<00:00,  1.87it/s]\n"
     ]
    },
    {
     "name": "stdout",
     "output_type": "stream",
     "text": [
      "Epoch 104: Validation Loss: 0.3588, Accuracy: 88.27%\n",
      "EarlyStopping counter: 3 out of 40\n"
     ]
    },
    {
     "name": "stderr",
     "output_type": "stream",
     "text": [
      "Epoch 105/300 [Training]: 100%|██████████| 98/98 [01:06<00:00,  1.46it/s, loss=0.187]\n",
      "Epoch 105/300 [Validation]: 100%|██████████| 20/20 [00:10<00:00,  1.88it/s]\n"
     ]
    },
    {
     "name": "stdout",
     "output_type": "stream",
     "text": [
      "Epoch 105: Validation Loss: 0.3782, Accuracy: 88.23%\n",
      "EarlyStopping counter: 4 out of 40\n"
     ]
    },
    {
     "name": "stderr",
     "output_type": "stream",
     "text": [
      "Epoch 106/300 [Training]: 100%|██████████| 98/98 [01:06<00:00,  1.46it/s, loss=0.155]\n",
      "Epoch 106/300 [Validation]: 100%|██████████| 20/20 [00:10<00:00,  1.87it/s]\n"
     ]
    },
    {
     "name": "stdout",
     "output_type": "stream",
     "text": [
      "Epoch 106: Validation Loss: 0.3477, Accuracy: 89.25%\n",
      "Validation loss decreased (0.347885 to 0.347659).  Saving model to checkpoint.pt\n"
     ]
    },
    {
     "name": "stderr",
     "output_type": "stream",
     "text": [
      "Epoch 107/300 [Training]: 100%|██████████| 98/98 [01:06<00:00,  1.46it/s, loss=0.175]\n",
      "Epoch 107/300 [Validation]: 100%|██████████| 20/20 [00:10<00:00,  1.90it/s]\n"
     ]
    },
    {
     "name": "stdout",
     "output_type": "stream",
     "text": [
      "Epoch 107: Validation Loss: 0.3740, Accuracy: 88.30%\n",
      "EarlyStopping counter: 1 out of 40\n"
     ]
    },
    {
     "name": "stderr",
     "output_type": "stream",
     "text": [
      "Epoch 108/300 [Training]: 100%|██████████| 98/98 [01:07<00:00,  1.46it/s, loss=0.16]\n",
      "Epoch 108/300 [Validation]: 100%|██████████| 20/20 [00:10<00:00,  1.86it/s]\n"
     ]
    },
    {
     "name": "stdout",
     "output_type": "stream",
     "text": [
      "Epoch 108: Validation Loss: 0.3734, Accuracy: 88.54%\n",
      "EarlyStopping counter: 2 out of 40\n"
     ]
    },
    {
     "name": "stderr",
     "output_type": "stream",
     "text": [
      "Epoch 109/300 [Training]: 100%|██████████| 98/98 [01:07<00:00,  1.46it/s, loss=0.166]\n",
      "Epoch 109/300 [Validation]: 100%|██████████| 20/20 [00:10<00:00,  1.89it/s]\n"
     ]
    },
    {
     "name": "stdout",
     "output_type": "stream",
     "text": [
      "Epoch 109: Validation Loss: 0.3680, Accuracy: 88.63%\n",
      "EarlyStopping counter: 3 out of 40\n"
     ]
    },
    {
     "name": "stderr",
     "output_type": "stream",
     "text": [
      "Epoch 110/300 [Training]: 100%|██████████| 98/98 [01:06<00:00,  1.47it/s, loss=0.202]\n",
      "Epoch 110/300 [Validation]: 100%|██████████| 20/20 [00:11<00:00,  1.82it/s]\n"
     ]
    },
    {
     "name": "stdout",
     "output_type": "stream",
     "text": [
      "Epoch 110: Validation Loss: 0.3965, Accuracy: 87.90%\n",
      "EarlyStopping counter: 4 out of 40\n"
     ]
    },
    {
     "name": "stderr",
     "output_type": "stream",
     "text": [
      "Epoch 111/300 [Training]: 100%|██████████| 98/98 [01:07<00:00,  1.46it/s, loss=0.205]\n",
      "Epoch 111/300 [Validation]: 100%|██████████| 20/20 [00:10<00:00,  1.86it/s]\n"
     ]
    },
    {
     "name": "stdout",
     "output_type": "stream",
     "text": [
      "Epoch 111: Validation Loss: 0.3571, Accuracy: 88.65%\n",
      "EarlyStopping counter: 5 out of 40\n"
     ]
    },
    {
     "name": "stderr",
     "output_type": "stream",
     "text": [
      "Epoch 112/300 [Training]: 100%|██████████| 98/98 [01:07<00:00,  1.46it/s, loss=0.197]\n",
      "Epoch 112/300 [Validation]: 100%|██████████| 20/20 [00:10<00:00,  1.86it/s]\n"
     ]
    },
    {
     "name": "stdout",
     "output_type": "stream",
     "text": [
      "Epoch 112: Validation Loss: 0.3247, Accuracy: 89.63%\n",
      "Validation loss decreased (0.347659 to 0.324703).  Saving model to checkpoint.pt\n"
     ]
    },
    {
     "name": "stderr",
     "output_type": "stream",
     "text": [
      "Epoch 113/300 [Training]: 100%|██████████| 98/98 [01:07<00:00,  1.46it/s, loss=0.122]\n",
      "Epoch 113/300 [Validation]: 100%|██████████| 20/20 [00:10<00:00,  1.89it/s]\n"
     ]
    },
    {
     "name": "stdout",
     "output_type": "stream",
     "text": [
      "Epoch 113: Validation Loss: 0.3743, Accuracy: 88.50%\n",
      "EarlyStopping counter: 1 out of 40\n"
     ]
    },
    {
     "name": "stderr",
     "output_type": "stream",
     "text": [
      "Epoch 114/300 [Training]: 100%|██████████| 98/98 [01:06<00:00,  1.47it/s, loss=0.168]\n",
      "Epoch 114/300 [Validation]: 100%|██████████| 20/20 [00:10<00:00,  1.88it/s]\n"
     ]
    },
    {
     "name": "stdout",
     "output_type": "stream",
     "text": [
      "Epoch 114: Validation Loss: 0.3719, Accuracy: 88.38%\n",
      "EarlyStopping counter: 2 out of 40\n"
     ]
    },
    {
     "name": "stderr",
     "output_type": "stream",
     "text": [
      "Epoch 115/300 [Training]: 100%|██████████| 98/98 [01:06<00:00,  1.47it/s, loss=0.176]\n",
      "Epoch 115/300 [Validation]: 100%|██████████| 20/20 [00:10<00:00,  1.88it/s]\n"
     ]
    },
    {
     "name": "stdout",
     "output_type": "stream",
     "text": [
      "Epoch 115: Validation Loss: 0.3693, Accuracy: 88.90%\n",
      "EarlyStopping counter: 3 out of 40\n"
     ]
    },
    {
     "name": "stderr",
     "output_type": "stream",
     "text": [
      "Epoch 116/300 [Training]: 100%|██████████| 98/98 [01:06<00:00,  1.47it/s, loss=0.173]\n",
      "Epoch 116/300 [Validation]: 100%|██████████| 20/20 [00:10<00:00,  1.85it/s]\n"
     ]
    },
    {
     "name": "stdout",
     "output_type": "stream",
     "text": [
      "Epoch 116: Validation Loss: 0.3606, Accuracy: 88.87%\n",
      "EarlyStopping counter: 4 out of 40\n"
     ]
    },
    {
     "name": "stderr",
     "output_type": "stream",
     "text": [
      "Epoch 117/300 [Training]: 100%|██████████| 98/98 [01:07<00:00,  1.46it/s, loss=0.171]\n",
      "Epoch 117/300 [Validation]: 100%|██████████| 20/20 [00:10<00:00,  1.86it/s]\n"
     ]
    },
    {
     "name": "stdout",
     "output_type": "stream",
     "text": [
      "Epoch 117: Validation Loss: 0.3673, Accuracy: 88.61%\n",
      "EarlyStopping counter: 5 out of 40\n"
     ]
    },
    {
     "name": "stderr",
     "output_type": "stream",
     "text": [
      "Epoch 118/300 [Training]: 100%|██████████| 98/98 [01:07<00:00,  1.45it/s, loss=0.138]\n",
      "Epoch 118/300 [Validation]: 100%|██████████| 20/20 [00:10<00:00,  1.82it/s]\n"
     ]
    },
    {
     "name": "stdout",
     "output_type": "stream",
     "text": [
      "Epoch 118: Validation Loss: 0.4177, Accuracy: 87.49%\n",
      "EarlyStopping counter: 6 out of 40\n"
     ]
    },
    {
     "name": "stderr",
     "output_type": "stream",
     "text": [
      "Epoch 119/300 [Training]: 100%|██████████| 98/98 [01:07<00:00,  1.46it/s, loss=0.159]\n",
      "Epoch 119/300 [Validation]: 100%|██████████| 20/20 [00:10<00:00,  1.89it/s]\n"
     ]
    },
    {
     "name": "stdout",
     "output_type": "stream",
     "text": [
      "Epoch 119: Validation Loss: 0.3972, Accuracy: 87.34%\n",
      "EarlyStopping counter: 7 out of 40\n"
     ]
    },
    {
     "name": "stderr",
     "output_type": "stream",
     "text": [
      "Epoch 120/300 [Training]: 100%|██████████| 98/98 [01:07<00:00,  1.46it/s, loss=0.133]\n",
      "Epoch 120/300 [Validation]: 100%|██████████| 20/20 [00:10<00:00,  1.88it/s]\n"
     ]
    },
    {
     "name": "stdout",
     "output_type": "stream",
     "text": [
      "Epoch 120: Validation Loss: 0.3603, Accuracy: 89.05%\n",
      "EarlyStopping counter: 8 out of 40\n"
     ]
    },
    {
     "name": "stderr",
     "output_type": "stream",
     "text": [
      "Epoch 121/300 [Training]: 100%|██████████| 98/98 [01:06<00:00,  1.47it/s, loss=0.169]\n",
      "Epoch 121/300 [Validation]: 100%|██████████| 20/20 [00:10<00:00,  1.87it/s]\n"
     ]
    },
    {
     "name": "stdout",
     "output_type": "stream",
     "text": [
      "Epoch 121: Validation Loss: 0.4127, Accuracy: 87.58%\n",
      "EarlyStopping counter: 9 out of 40\n"
     ]
    },
    {
     "name": "stderr",
     "output_type": "stream",
     "text": [
      "Epoch 122/300 [Training]: 100%|██████████| 98/98 [01:06<00:00,  1.47it/s, loss=0.172]\n",
      "Epoch 122/300 [Validation]: 100%|██████████| 20/20 [00:10<00:00,  1.89it/s]\n"
     ]
    },
    {
     "name": "stdout",
     "output_type": "stream",
     "text": [
      "Epoch 122: Validation Loss: 0.3738, Accuracy: 88.51%\n",
      "EarlyStopping counter: 10 out of 40\n"
     ]
    },
    {
     "name": "stderr",
     "output_type": "stream",
     "text": [
      "Epoch 123/300 [Training]: 100%|██████████| 98/98 [01:06<00:00,  1.46it/s, loss=0.166]\n",
      "Epoch 123/300 [Validation]: 100%|██████████| 20/20 [00:10<00:00,  1.85it/s]\n"
     ]
    },
    {
     "name": "stdout",
     "output_type": "stream",
     "text": [
      "Epoch 123: Validation Loss: 0.3486, Accuracy: 89.25%\n",
      "EarlyStopping counter: 11 out of 40\n"
     ]
    },
    {
     "name": "stderr",
     "output_type": "stream",
     "text": [
      "Epoch 124/300 [Training]: 100%|██████████| 98/98 [01:07<00:00,  1.45it/s, loss=0.185]\n",
      "Epoch 124/300 [Validation]: 100%|██████████| 20/20 [00:10<00:00,  1.87it/s]\n"
     ]
    },
    {
     "name": "stdout",
     "output_type": "stream",
     "text": [
      "Epoch 124: Validation Loss: 0.3427, Accuracy: 89.33%\n",
      "EarlyStopping counter: 12 out of 40\n"
     ]
    },
    {
     "name": "stderr",
     "output_type": "stream",
     "text": [
      "Epoch 125/300 [Training]: 100%|██████████| 98/98 [01:07<00:00,  1.46it/s, loss=0.123]\n",
      "Epoch 125/300 [Validation]: 100%|██████████| 20/20 [00:10<00:00,  1.86it/s]\n"
     ]
    },
    {
     "name": "stdout",
     "output_type": "stream",
     "text": [
      "Epoch 125: Validation Loss: 0.3429, Accuracy: 89.61%\n",
      "EarlyStopping counter: 13 out of 40\n"
     ]
    },
    {
     "name": "stderr",
     "output_type": "stream",
     "text": [
      "Epoch 126/300 [Training]: 100%|██████████| 98/98 [01:07<00:00,  1.45it/s, loss=0.0892]\n",
      "Epoch 126/300 [Validation]: 100%|██████████| 20/20 [00:10<00:00,  1.85it/s]\n"
     ]
    },
    {
     "name": "stdout",
     "output_type": "stream",
     "text": [
      "Epoch 126: Validation Loss: 0.3783, Accuracy: 88.57%\n",
      "EarlyStopping counter: 14 out of 40\n"
     ]
    },
    {
     "name": "stderr",
     "output_type": "stream",
     "text": [
      "Epoch 127/300 [Training]: 100%|██████████| 98/98 [01:07<00:00,  1.45it/s, loss=0.154]\n",
      "Epoch 127/300 [Validation]: 100%|██████████| 20/20 [00:10<00:00,  1.84it/s]\n"
     ]
    },
    {
     "name": "stdout",
     "output_type": "stream",
     "text": [
      "Epoch 127: Validation Loss: 0.3744, Accuracy: 88.63%\n",
      "EarlyStopping counter: 15 out of 40\n"
     ]
    },
    {
     "name": "stderr",
     "output_type": "stream",
     "text": [
      "Epoch 128/300 [Training]: 100%|██████████| 98/98 [01:08<00:00,  1.43it/s, loss=0.167]\n",
      "Epoch 128/300 [Validation]: 100%|██████████| 20/20 [00:10<00:00,  1.83it/s]\n"
     ]
    },
    {
     "name": "stdout",
     "output_type": "stream",
     "text": [
      "Epoch 128: Validation Loss: 0.3731, Accuracy: 88.68%\n",
      "EarlyStopping counter: 16 out of 40\n"
     ]
    },
    {
     "name": "stderr",
     "output_type": "stream",
     "text": [
      "Epoch 129/300 [Training]: 100%|██████████| 98/98 [01:07<00:00,  1.45it/s, loss=0.149]\n",
      "Epoch 129/300 [Validation]: 100%|██████████| 20/20 [00:10<00:00,  1.89it/s]\n"
     ]
    },
    {
     "name": "stdout",
     "output_type": "stream",
     "text": [
      "Epoch 129: Validation Loss: 0.3859, Accuracy: 88.29%\n",
      "EarlyStopping counter: 17 out of 40\n"
     ]
    },
    {
     "name": "stderr",
     "output_type": "stream",
     "text": [
      "Epoch 130/300 [Training]: 100%|██████████| 98/98 [01:07<00:00,  1.45it/s, loss=0.111]\n",
      "Epoch 130/300 [Validation]: 100%|██████████| 20/20 [00:10<00:00,  1.84it/s]\n"
     ]
    },
    {
     "name": "stdout",
     "output_type": "stream",
     "text": [
      "Epoch 130: Validation Loss: 0.3876, Accuracy: 88.25%\n",
      "EarlyStopping counter: 18 out of 40\n"
     ]
    },
    {
     "name": "stderr",
     "output_type": "stream",
     "text": [
      "Epoch 131/300 [Training]: 100%|██████████| 98/98 [01:07<00:00,  1.45it/s, loss=0.15]\n",
      "Epoch 131/300 [Validation]: 100%|██████████| 20/20 [00:10<00:00,  1.83it/s]\n"
     ]
    },
    {
     "name": "stdout",
     "output_type": "stream",
     "text": [
      "Epoch 131: Validation Loss: 0.3654, Accuracy: 88.49%\n",
      "EarlyStopping counter: 19 out of 40\n"
     ]
    },
    {
     "name": "stderr",
     "output_type": "stream",
     "text": [
      "Epoch 132/300 [Training]: 100%|██████████| 98/98 [01:08<00:00,  1.44it/s, loss=0.162]\n",
      "Epoch 132/300 [Validation]: 100%|██████████| 20/20 [00:11<00:00,  1.81it/s]\n"
     ]
    },
    {
     "name": "stdout",
     "output_type": "stream",
     "text": [
      "Epoch 132: Validation Loss: 0.3792, Accuracy: 88.76%\n",
      "EarlyStopping counter: 20 out of 40\n"
     ]
    },
    {
     "name": "stderr",
     "output_type": "stream",
     "text": [
      "Epoch 133/300 [Training]: 100%|██████████| 98/98 [01:08<00:00,  1.44it/s, loss=0.126]\n",
      "Epoch 133/300 [Validation]: 100%|██████████| 20/20 [00:10<00:00,  1.83it/s]\n"
     ]
    },
    {
     "name": "stdout",
     "output_type": "stream",
     "text": [
      "Epoch 133: Validation Loss: 0.3578, Accuracy: 89.12%\n",
      "Epoch 00133: reducing learning rate of group 0 to 2.5000e-04.\n",
      "EarlyStopping counter: 21 out of 40\n"
     ]
    },
    {
     "name": "stderr",
     "output_type": "stream",
     "text": [
      "Epoch 134/300 [Training]: 100%|██████████| 98/98 [01:08<00:00,  1.44it/s, loss=0.171]\n",
      "Epoch 134/300 [Validation]: 100%|██████████| 20/20 [00:10<00:00,  1.84it/s]\n"
     ]
    },
    {
     "name": "stdout",
     "output_type": "stream",
     "text": [
      "Epoch 134: Validation Loss: 0.3243, Accuracy: 90.17%\n",
      "Validation loss decreased (0.324703 to 0.324302).  Saving model to checkpoint.pt\n"
     ]
    },
    {
     "name": "stderr",
     "output_type": "stream",
     "text": [
      "Epoch 135/300 [Training]: 100%|██████████| 98/98 [01:07<00:00,  1.44it/s, loss=0.0918]\n",
      "Epoch 135/300 [Validation]: 100%|██████████| 20/20 [00:10<00:00,  1.83it/s]\n"
     ]
    },
    {
     "name": "stdout",
     "output_type": "stream",
     "text": [
      "Epoch 135: Validation Loss: 0.3331, Accuracy: 90.20%\n",
      "EarlyStopping counter: 1 out of 40\n"
     ]
    },
    {
     "name": "stderr",
     "output_type": "stream",
     "text": [
      "Epoch 136/300 [Training]: 100%|██████████| 98/98 [01:08<00:00,  1.42it/s, loss=0.119]\n",
      "Epoch 136/300 [Validation]: 100%|██████████| 20/20 [00:10<00:00,  1.83it/s]\n"
     ]
    },
    {
     "name": "stdout",
     "output_type": "stream",
     "text": [
      "Epoch 136: Validation Loss: 0.3408, Accuracy: 90.02%\n",
      "EarlyStopping counter: 2 out of 40\n"
     ]
    },
    {
     "name": "stderr",
     "output_type": "stream",
     "text": [
      "Epoch 137/300 [Training]: 100%|██████████| 98/98 [01:08<00:00,  1.43it/s, loss=0.1]\n",
      "Epoch 137/300 [Validation]: 100%|██████████| 20/20 [00:11<00:00,  1.80it/s]\n"
     ]
    },
    {
     "name": "stdout",
     "output_type": "stream",
     "text": [
      "Epoch 137: Validation Loss: 0.3182, Accuracy: 90.20%\n",
      "Validation loss decreased (0.324302 to 0.318157).  Saving model to checkpoint.pt\n"
     ]
    },
    {
     "name": "stderr",
     "output_type": "stream",
     "text": [
      "Epoch 138/300 [Training]: 100%|██████████| 98/98 [01:08<00:00,  1.43it/s, loss=0.0915]\n",
      "Epoch 138/300 [Validation]: 100%|██████████| 20/20 [00:10<00:00,  1.82it/s]\n"
     ]
    },
    {
     "name": "stdout",
     "output_type": "stream",
     "text": [
      "Epoch 138: Validation Loss: 0.3234, Accuracy: 90.57%\n",
      "EarlyStopping counter: 1 out of 40\n"
     ]
    },
    {
     "name": "stderr",
     "output_type": "stream",
     "text": [
      "Epoch 139/300 [Training]: 100%|██████████| 98/98 [01:08<00:00,  1.43it/s, loss=0.103]\n",
      "Epoch 139/300 [Validation]: 100%|██████████| 20/20 [00:10<00:00,  1.82it/s]\n"
     ]
    },
    {
     "name": "stdout",
     "output_type": "stream",
     "text": [
      "Epoch 139: Validation Loss: 0.3468, Accuracy: 89.89%\n",
      "EarlyStopping counter: 2 out of 40\n"
     ]
    },
    {
     "name": "stderr",
     "output_type": "stream",
     "text": [
      "Epoch 140/300 [Training]: 100%|██████████| 98/98 [01:08<00:00,  1.43it/s, loss=0.0919]\n",
      "Epoch 140/300 [Validation]: 100%|██████████| 20/20 [00:11<00:00,  1.81it/s]\n"
     ]
    },
    {
     "name": "stdout",
     "output_type": "stream",
     "text": [
      "Epoch 140: Validation Loss: 0.3256, Accuracy: 90.36%\n",
      "EarlyStopping counter: 3 out of 40\n"
     ]
    },
    {
     "name": "stderr",
     "output_type": "stream",
     "text": [
      "Epoch 141/300 [Training]: 100%|██████████| 98/98 [01:09<00:00,  1.41it/s, loss=0.0846]\n",
      "Epoch 141/300 [Validation]: 100%|██████████| 20/20 [00:10<00:00,  1.83it/s]\n"
     ]
    },
    {
     "name": "stdout",
     "output_type": "stream",
     "text": [
      "Epoch 141: Validation Loss: 0.3561, Accuracy: 89.48%\n",
      "EarlyStopping counter: 4 out of 40\n"
     ]
    },
    {
     "name": "stderr",
     "output_type": "stream",
     "text": [
      "Epoch 142/300 [Training]: 100%|██████████| 98/98 [01:08<00:00,  1.43it/s, loss=0.0899]\n",
      "Epoch 142/300 [Validation]: 100%|██████████| 20/20 [00:10<00:00,  1.83it/s]\n"
     ]
    },
    {
     "name": "stdout",
     "output_type": "stream",
     "text": [
      "Epoch 142: Validation Loss: 0.3416, Accuracy: 90.18%\n",
      "EarlyStopping counter: 5 out of 40\n"
     ]
    },
    {
     "name": "stderr",
     "output_type": "stream",
     "text": [
      "Epoch 143/300 [Training]: 100%|██████████| 98/98 [01:08<00:00,  1.43it/s, loss=0.1]\n",
      "Epoch 143/300 [Validation]: 100%|██████████| 20/20 [00:11<00:00,  1.80it/s]\n"
     ]
    },
    {
     "name": "stdout",
     "output_type": "stream",
     "text": [
      "Epoch 143: Validation Loss: 0.3434, Accuracy: 90.02%\n",
      "EarlyStopping counter: 6 out of 40\n"
     ]
    },
    {
     "name": "stderr",
     "output_type": "stream",
     "text": [
      "Epoch 144/300 [Training]: 100%|██████████| 98/98 [01:08<00:00,  1.43it/s, loss=0.13]\n",
      "Epoch 144/300 [Validation]: 100%|██████████| 20/20 [00:10<00:00,  1.84it/s]\n"
     ]
    },
    {
     "name": "stdout",
     "output_type": "stream",
     "text": [
      "Epoch 144: Validation Loss: 0.3488, Accuracy: 90.09%\n",
      "EarlyStopping counter: 7 out of 40\n"
     ]
    },
    {
     "name": "stderr",
     "output_type": "stream",
     "text": [
      "Epoch 145/300 [Training]: 100%|██████████| 98/98 [01:08<00:00,  1.43it/s, loss=0.0883]\n",
      "Epoch 145/300 [Validation]: 100%|██████████| 20/20 [00:10<00:00,  1.82it/s]\n"
     ]
    },
    {
     "name": "stdout",
     "output_type": "stream",
     "text": [
      "Epoch 145: Validation Loss: 0.3615, Accuracy: 89.67%\n",
      "EarlyStopping counter: 8 out of 40\n"
     ]
    },
    {
     "name": "stderr",
     "output_type": "stream",
     "text": [
      "Epoch 146/300 [Training]: 100%|██████████| 98/98 [01:08<00:00,  1.43it/s, loss=0.087]\n",
      "Epoch 146/300 [Validation]: 100%|██████████| 20/20 [00:10<00:00,  1.83it/s]\n"
     ]
    },
    {
     "name": "stdout",
     "output_type": "stream",
     "text": [
      "Epoch 146: Validation Loss: 0.3667, Accuracy: 89.58%\n",
      "EarlyStopping counter: 9 out of 40\n"
     ]
    },
    {
     "name": "stderr",
     "output_type": "stream",
     "text": [
      "Epoch 147/300 [Training]: 100%|██████████| 98/98 [01:08<00:00,  1.44it/s, loss=0.076]\n",
      "Epoch 147/300 [Validation]: 100%|██████████| 20/20 [00:10<00:00,  1.84it/s]\n"
     ]
    },
    {
     "name": "stdout",
     "output_type": "stream",
     "text": [
      "Epoch 147: Validation Loss: 0.3579, Accuracy: 89.48%\n",
      "EarlyStopping counter: 10 out of 40\n"
     ]
    },
    {
     "name": "stderr",
     "output_type": "stream",
     "text": [
      "Epoch 148/300 [Training]: 100%|██████████| 98/98 [01:07<00:00,  1.44it/s, loss=0.129]\n",
      "Epoch 148/300 [Validation]: 100%|██████████| 20/20 [00:10<00:00,  1.86it/s]\n"
     ]
    },
    {
     "name": "stdout",
     "output_type": "stream",
     "text": [
      "Epoch 148: Validation Loss: 0.3473, Accuracy: 90.00%\n",
      "EarlyStopping counter: 11 out of 40\n"
     ]
    },
    {
     "name": "stderr",
     "output_type": "stream",
     "text": [
      "Epoch 149/300 [Training]: 100%|██████████| 98/98 [01:07<00:00,  1.44it/s, loss=0.0883]\n",
      "Epoch 149/300 [Validation]: 100%|██████████| 20/20 [00:10<00:00,  1.86it/s]\n"
     ]
    },
    {
     "name": "stdout",
     "output_type": "stream",
     "text": [
      "Epoch 149: Validation Loss: 0.3405, Accuracy: 90.47%\n",
      "EarlyStopping counter: 12 out of 40\n"
     ]
    },
    {
     "name": "stderr",
     "output_type": "stream",
     "text": [
      "Epoch 150/300 [Training]: 100%|██████████| 98/98 [01:07<00:00,  1.46it/s, loss=0.0922]\n",
      "Epoch 150/300 [Validation]: 100%|██████████| 20/20 [00:10<00:00,  1.87it/s]\n"
     ]
    },
    {
     "name": "stdout",
     "output_type": "stream",
     "text": [
      "Epoch 150: Validation Loss: 0.3409, Accuracy: 90.24%\n",
      "EarlyStopping counter: 13 out of 40\n"
     ]
    },
    {
     "name": "stderr",
     "output_type": "stream",
     "text": [
      "Epoch 151/300 [Training]: 100%|██████████| 98/98 [01:07<00:00,  1.45it/s, loss=0.0762]\n",
      "Epoch 151/300 [Validation]: 100%|██████████| 20/20 [00:10<00:00,  1.89it/s]\n"
     ]
    },
    {
     "name": "stdout",
     "output_type": "stream",
     "text": [
      "Epoch 151: Validation Loss: 0.3650, Accuracy: 89.79%\n",
      "EarlyStopping counter: 14 out of 40\n"
     ]
    },
    {
     "name": "stderr",
     "output_type": "stream",
     "text": [
      "Epoch 152/300 [Training]: 100%|██████████| 98/98 [01:07<00:00,  1.45it/s, loss=0.118]\n",
      "Epoch 152/300 [Validation]: 100%|██████████| 20/20 [00:10<00:00,  1.87it/s]\n"
     ]
    },
    {
     "name": "stdout",
     "output_type": "stream",
     "text": [
      "Epoch 152: Validation Loss: 0.3539, Accuracy: 89.78%\n",
      "EarlyStopping counter: 15 out of 40\n"
     ]
    },
    {
     "name": "stderr",
     "output_type": "stream",
     "text": [
      "Epoch 153/300 [Training]: 100%|██████████| 98/98 [01:06<00:00,  1.46it/s, loss=0.0724]\n",
      "Epoch 153/300 [Validation]: 100%|██████████| 20/20 [00:10<00:00,  1.84it/s]\n"
     ]
    },
    {
     "name": "stdout",
     "output_type": "stream",
     "text": [
      "Epoch 153: Validation Loss: 0.3462, Accuracy: 90.29%\n",
      "EarlyStopping counter: 16 out of 40\n"
     ]
    },
    {
     "name": "stderr",
     "output_type": "stream",
     "text": [
      "Epoch 154/300 [Training]: 100%|██████████| 98/98 [01:07<00:00,  1.46it/s, loss=0.132]\n",
      "Epoch 154/300 [Validation]: 100%|██████████| 20/20 [00:10<00:00,  1.87it/s]\n"
     ]
    },
    {
     "name": "stdout",
     "output_type": "stream",
     "text": [
      "Epoch 154: Validation Loss: 0.3609, Accuracy: 89.64%\n",
      "EarlyStopping counter: 17 out of 40\n"
     ]
    },
    {
     "name": "stderr",
     "output_type": "stream",
     "text": [
      "Epoch 155/300 [Training]: 100%|██████████| 98/98 [01:07<00:00,  1.46it/s, loss=0.0856]\n",
      "Epoch 155/300 [Validation]: 100%|██████████| 20/20 [00:10<00:00,  1.89it/s]\n"
     ]
    },
    {
     "name": "stdout",
     "output_type": "stream",
     "text": [
      "Epoch 155: Validation Loss: 0.3373, Accuracy: 90.01%\n",
      "EarlyStopping counter: 18 out of 40\n"
     ]
    },
    {
     "name": "stderr",
     "output_type": "stream",
     "text": [
      "Epoch 156/300 [Training]: 100%|██████████| 98/98 [01:06<00:00,  1.46it/s, loss=0.12]\n",
      "Epoch 156/300 [Validation]: 100%|██████████| 20/20 [00:10<00:00,  1.85it/s]\n"
     ]
    },
    {
     "name": "stdout",
     "output_type": "stream",
     "text": [
      "Epoch 156: Validation Loss: 0.3585, Accuracy: 90.23%\n",
      "EarlyStopping counter: 19 out of 40\n"
     ]
    },
    {
     "name": "stderr",
     "output_type": "stream",
     "text": [
      "Epoch 157/300 [Training]: 100%|██████████| 98/98 [01:06<00:00,  1.46it/s, loss=0.0954]\n",
      "Epoch 157/300 [Validation]: 100%|██████████| 20/20 [00:10<00:00,  1.88it/s]\n"
     ]
    },
    {
     "name": "stdout",
     "output_type": "stream",
     "text": [
      "Epoch 157: Validation Loss: 0.3531, Accuracy: 90.12%\n",
      "EarlyStopping counter: 20 out of 40\n"
     ]
    },
    {
     "name": "stderr",
     "output_type": "stream",
     "text": [
      "Epoch 158/300 [Training]: 100%|██████████| 98/98 [01:07<00:00,  1.46it/s, loss=0.107]\n",
      "Epoch 158/300 [Validation]: 100%|██████████| 20/20 [00:10<00:00,  1.84it/s]\n"
     ]
    },
    {
     "name": "stdout",
     "output_type": "stream",
     "text": [
      "Epoch 158: Validation Loss: 0.3495, Accuracy: 89.99%\n",
      "Epoch 00158: reducing learning rate of group 0 to 1.2500e-04.\n",
      "EarlyStopping counter: 21 out of 40\n"
     ]
    },
    {
     "name": "stderr",
     "output_type": "stream",
     "text": [
      "Epoch 159/300 [Training]: 100%|██████████| 98/98 [01:07<00:00,  1.45it/s, loss=0.115]\n",
      "Epoch 159/300 [Validation]: 100%|██████████| 20/20 [00:10<00:00,  1.86it/s]\n"
     ]
    },
    {
     "name": "stdout",
     "output_type": "stream",
     "text": [
      "Epoch 159: Validation Loss: 0.3346, Accuracy: 90.70%\n",
      "EarlyStopping counter: 22 out of 40\n"
     ]
    },
    {
     "name": "stderr",
     "output_type": "stream",
     "text": [
      "Epoch 160/300 [Training]: 100%|██████████| 98/98 [01:07<00:00,  1.46it/s, loss=0.0511]\n",
      "Epoch 160/300 [Validation]: 100%|██████████| 20/20 [00:10<00:00,  1.87it/s]\n"
     ]
    },
    {
     "name": "stdout",
     "output_type": "stream",
     "text": [
      "Epoch 160: Validation Loss: 0.3305, Accuracy: 91.14%\n",
      "EarlyStopping counter: 23 out of 40\n"
     ]
    },
    {
     "name": "stderr",
     "output_type": "stream",
     "text": [
      "Epoch 161/300 [Training]: 100%|██████████| 98/98 [01:07<00:00,  1.46it/s, loss=0.0734]\n",
      "Epoch 161/300 [Validation]: 100%|██████████| 20/20 [00:10<00:00,  1.86it/s]\n"
     ]
    },
    {
     "name": "stdout",
     "output_type": "stream",
     "text": [
      "Epoch 161: Validation Loss: 0.3360, Accuracy: 90.74%\n",
      "EarlyStopping counter: 24 out of 40\n"
     ]
    },
    {
     "name": "stderr",
     "output_type": "stream",
     "text": [
      "Epoch 162/300 [Training]: 100%|██████████| 98/98 [01:07<00:00,  1.44it/s, loss=0.0736]\n",
      "Epoch 162/300 [Validation]: 100%|██████████| 20/20 [00:10<00:00,  1.85it/s]\n"
     ]
    },
    {
     "name": "stdout",
     "output_type": "stream",
     "text": [
      "Epoch 162: Validation Loss: 0.3401, Accuracy: 90.96%\n",
      "EarlyStopping counter: 25 out of 40\n"
     ]
    },
    {
     "name": "stderr",
     "output_type": "stream",
     "text": [
      "Epoch 163/300 [Training]: 100%|██████████| 98/98 [01:07<00:00,  1.45it/s, loss=0.086]\n",
      "Epoch 163/300 [Validation]: 100%|██████████| 20/20 [00:10<00:00,  1.82it/s]\n"
     ]
    },
    {
     "name": "stdout",
     "output_type": "stream",
     "text": [
      "Epoch 163: Validation Loss: 0.3324, Accuracy: 90.94%\n",
      "EarlyStopping counter: 26 out of 40\n"
     ]
    },
    {
     "name": "stderr",
     "output_type": "stream",
     "text": [
      "Epoch 164/300 [Training]: 100%|██████████| 98/98 [01:07<00:00,  1.45it/s, loss=0.105]\n",
      "Epoch 164/300 [Validation]: 100%|██████████| 20/20 [00:10<00:00,  1.87it/s]\n"
     ]
    },
    {
     "name": "stdout",
     "output_type": "stream",
     "text": [
      "Epoch 164: Validation Loss: 0.3492, Accuracy: 90.74%\n",
      "EarlyStopping counter: 27 out of 40\n"
     ]
    },
    {
     "name": "stderr",
     "output_type": "stream",
     "text": [
      "Epoch 165/300 [Training]: 100%|██████████| 98/98 [01:07<00:00,  1.45it/s, loss=0.0433]\n",
      "Epoch 165/300 [Validation]: 100%|██████████| 20/20 [00:11<00:00,  1.79it/s]\n"
     ]
    },
    {
     "name": "stdout",
     "output_type": "stream",
     "text": [
      "Epoch 165: Validation Loss: 0.3478, Accuracy: 90.31%\n",
      "EarlyStopping counter: 28 out of 40\n"
     ]
    },
    {
     "name": "stderr",
     "output_type": "stream",
     "text": [
      "Epoch 166/300 [Training]: 100%|██████████| 98/98 [01:07<00:00,  1.45it/s, loss=0.04]\n",
      "Epoch 166/300 [Validation]: 100%|██████████| 20/20 [00:10<00:00,  1.85it/s]\n"
     ]
    },
    {
     "name": "stdout",
     "output_type": "stream",
     "text": [
      "Epoch 166: Validation Loss: 0.3490, Accuracy: 90.36%\n",
      "EarlyStopping counter: 29 out of 40\n"
     ]
    },
    {
     "name": "stderr",
     "output_type": "stream",
     "text": [
      "Epoch 167/300 [Training]: 100%|██████████| 98/98 [01:07<00:00,  1.46it/s, loss=0.0944]\n",
      "Epoch 167/300 [Validation]: 100%|██████████| 20/20 [00:10<00:00,  1.84it/s]\n"
     ]
    },
    {
     "name": "stdout",
     "output_type": "stream",
     "text": [
      "Epoch 167: Validation Loss: 0.3457, Accuracy: 90.64%\n",
      "EarlyStopping counter: 30 out of 40\n"
     ]
    },
    {
     "name": "stderr",
     "output_type": "stream",
     "text": [
      "Epoch 168/300 [Training]: 100%|██████████| 98/98 [01:07<00:00,  1.45it/s, loss=0.0434]\n",
      "Epoch 168/300 [Validation]: 100%|██████████| 20/20 [00:10<00:00,  1.87it/s]\n"
     ]
    },
    {
     "name": "stdout",
     "output_type": "stream",
     "text": [
      "Epoch 168: Validation Loss: 0.3479, Accuracy: 90.59%\n",
      "EarlyStopping counter: 31 out of 40\n"
     ]
    },
    {
     "name": "stderr",
     "output_type": "stream",
     "text": [
      "Epoch 169/300 [Training]: 100%|██████████| 98/98 [01:06<00:00,  1.47it/s, loss=0.0575]\n",
      "Epoch 169/300 [Validation]: 100%|██████████| 20/20 [00:10<00:00,  1.87it/s]\n"
     ]
    },
    {
     "name": "stdout",
     "output_type": "stream",
     "text": [
      "Epoch 169: Validation Loss: 0.3453, Accuracy: 90.90%\n",
      "EarlyStopping counter: 32 out of 40\n"
     ]
    },
    {
     "name": "stderr",
     "output_type": "stream",
     "text": [
      "Epoch 170/300 [Training]: 100%|██████████| 98/98 [01:07<00:00,  1.46it/s, loss=0.0673]\n",
      "Epoch 170/300 [Validation]: 100%|██████████| 20/20 [00:10<00:00,  1.87it/s]\n"
     ]
    },
    {
     "name": "stdout",
     "output_type": "stream",
     "text": [
      "Epoch 170: Validation Loss: 0.3359, Accuracy: 90.76%\n",
      "EarlyStopping counter: 33 out of 40\n"
     ]
    },
    {
     "name": "stderr",
     "output_type": "stream",
     "text": [
      "Epoch 171/300 [Training]: 100%|██████████| 98/98 [01:07<00:00,  1.46it/s, loss=0.0563]\n",
      "Epoch 171/300 [Validation]: 100%|██████████| 20/20 [00:10<00:00,  1.82it/s]\n"
     ]
    },
    {
     "name": "stdout",
     "output_type": "stream",
     "text": [
      "Epoch 171: Validation Loss: 0.3468, Accuracy: 90.72%\n",
      "EarlyStopping counter: 34 out of 40\n"
     ]
    },
    {
     "name": "stderr",
     "output_type": "stream",
     "text": [
      "Epoch 172/300 [Training]: 100%|██████████| 98/98 [01:07<00:00,  1.45it/s, loss=0.0668]\n",
      "Epoch 172/300 [Validation]: 100%|██████████| 20/20 [00:10<00:00,  1.88it/s]\n"
     ]
    },
    {
     "name": "stdout",
     "output_type": "stream",
     "text": [
      "Epoch 172: Validation Loss: 0.3400, Accuracy: 90.69%\n",
      "EarlyStopping counter: 35 out of 40\n"
     ]
    },
    {
     "name": "stderr",
     "output_type": "stream",
     "text": [
      "Epoch 173/300 [Training]: 100%|██████████| 98/98 [01:07<00:00,  1.46it/s, loss=0.0803]\n",
      "Epoch 173/300 [Validation]: 100%|██████████| 20/20 [00:10<00:00,  1.86it/s]\n"
     ]
    },
    {
     "name": "stdout",
     "output_type": "stream",
     "text": [
      "Epoch 173: Validation Loss: 0.3470, Accuracy: 90.57%\n",
      "EarlyStopping counter: 36 out of 40\n"
     ]
    },
    {
     "name": "stderr",
     "output_type": "stream",
     "text": [
      "Epoch 174/300 [Training]: 100%|██████████| 98/98 [01:06<00:00,  1.46it/s, loss=0.078]\n",
      "Epoch 174/300 [Validation]: 100%|██████████| 20/20 [00:10<00:00,  1.87it/s]\n"
     ]
    },
    {
     "name": "stdout",
     "output_type": "stream",
     "text": [
      "Epoch 174: Validation Loss: 0.3505, Accuracy: 90.43%\n",
      "EarlyStopping counter: 37 out of 40\n"
     ]
    },
    {
     "name": "stderr",
     "output_type": "stream",
     "text": [
      "Epoch 175/300 [Training]: 100%|██████████| 98/98 [01:07<00:00,  1.46it/s, loss=0.0221]\n",
      "Epoch 175/300 [Validation]: 100%|██████████| 20/20 [00:10<00:00,  1.86it/s]\n"
     ]
    },
    {
     "name": "stdout",
     "output_type": "stream",
     "text": [
      "Epoch 175: Validation Loss: 0.3516, Accuracy: 90.85%\n",
      "EarlyStopping counter: 38 out of 40\n"
     ]
    },
    {
     "name": "stderr",
     "output_type": "stream",
     "text": [
      "Epoch 176/300 [Training]: 100%|██████████| 98/98 [01:06<00:00,  1.47it/s, loss=0.0718]\n",
      "Epoch 176/300 [Validation]: 100%|██████████| 20/20 [00:10<00:00,  1.85it/s]\n"
     ]
    },
    {
     "name": "stdout",
     "output_type": "stream",
     "text": [
      "Epoch 176: Validation Loss: 0.3404, Accuracy: 90.74%\n",
      "EarlyStopping counter: 39 out of 40\n"
     ]
    },
    {
     "name": "stderr",
     "output_type": "stream",
     "text": [
      "Epoch 177/300 [Training]: 100%|██████████| 98/98 [01:06<00:00,  1.46it/s, loss=0.0676]\n",
      "Epoch 177/300 [Validation]: 100%|██████████| 20/20 [00:10<00:00,  1.83it/s]"
     ]
    },
    {
     "name": "stdout",
     "output_type": "stream",
     "text": [
      "Epoch 177: Validation Loss: 0.3400, Accuracy: 90.90%\n",
      "EarlyStopping counter: 40 out of 40\n",
      "Early stopping triggered\n"
     ]
    },
    {
     "name": "stderr",
     "output_type": "stream",
     "text": [
      "\n"
     ]
    },
    {
     "data": {
      "text/plain": [
       "<All keys matched successfully>"
      ]
     },
     "execution_count": 17,
     "metadata": {},
     "output_type": "execute_result"
    }
   ],
   "source": [
    "#2. with early stopping\n",
    "from tqdm import tqdm\n",
    "\n",
    "\n",
    "# Initialize metrics storage\n",
    "train_losses = []\n",
    "val_losses = []\n",
    "train_accuracies = []\n",
    "val_accuracies = []\n",
    "\n",
    "# Initialize the early stopping object\n",
    "early_stopping = EarlyStopping( patience=40, restore_best_weights=True, verbose=1)\n",
    "\n",
    "for epoch in range(num_epochs):\n",
    "    model.train()\n",
    "    \n",
    "    train_loss = 0.0\n",
    "    correct = 0\n",
    "    total = 0\n",
    "    \n",
    "    train_bar = tqdm(train_loader, desc=f'Epoch {epoch+1}/{num_epochs} [Training]')\n",
    "    for data, labels in train_bar:\n",
    "        data, labels = data.to(device), labels.to(device)\n",
    "        optimizer.zero_grad()\n",
    "        outputs = model(data)\n",
    "        loss = loss_function(outputs, labels)\n",
    "        train_loss += loss.item() * data.size(0)\n",
    "        loss.backward()\n",
    "        \n",
    "        \n",
    "        optimizer.step()\n",
    "\n",
    "        _, predicted = torch.max(outputs.data, 1)\n",
    "        correct += (predicted == labels).sum().item()\n",
    "        total += labels.size(0)\n",
    "\n",
    "        train_bar.set_postfix(loss=loss.item())\n",
    "        \n",
    "    train_losses.append(train_loss / len(train_loader.dataset))\n",
    "    train_accuracies.append(100 * correct / total)\n",
    "\n",
    "    model.eval()\n",
    "    validation_loss = 0.0\n",
    "    correct = 0\n",
    "    total = 0\n",
    "    with torch.no_grad():\n",
    "        val_bar = tqdm(test_loader, desc=f'Epoch {epoch+1}/{num_epochs} [Validation]')\n",
    "        for data, labels in val_bar:\n",
    "            data, labels = data.to(device), labels.to(device)\n",
    "            outputs = model(data)\n",
    "            loss = loss_function(outputs, labels)\n",
    "            validation_loss += loss.item() * data.size(0)\n",
    "            _, predicted = torch.max(outputs.data, 1)\n",
    "            correct += (predicted == labels).sum().item()\n",
    "            total += labels.size(0)\n",
    "        \n",
    "        accuracy = 100 * correct / total\n",
    "    \n",
    "        val_losses.append(validation_loss / len(test_loader.dataset))\n",
    "        val_accuracies.append(accuracy)\n",
    "        val_loss = validation_loss / len(test_loader.dataset)\n",
    "        val_bar.set_postfix(loss=validation_loss/len(test_loader.dataset), accuracy=f'{accuracy:.2f}%')\n",
    "    \n",
    "    \n",
    "    validation_loss /= len(test_loader.dataset)\n",
    "    print(f'Epoch {epoch+1}: Validation Loss: {validation_loss:.4f}, Accuracy: {accuracy:.2f}%')\n",
    "   \n",
    "    # Step the scheduler and apply early stopping\n",
    "    scheduler.step(validation_loss)\n",
    "    early_stopping(model,validation_loss)\n",
    "    \n",
    "    if early_stopping.early_stop:\n",
    "        print(\"Early stopping triggered\")\n",
    "        break\n",
    "\n",
    "# Load the last best model\n",
    "model.load_state_dict(torch.load('checkpoint.pt'))"
   ]
  },
  {
   "cell_type": "code",
   "execution_count": 18,
   "id": "12853ddb",
   "metadata": {
    "execution": {
     "iopub.execute_input": "2024-04-12T07:16:31.101843Z",
     "iopub.status.busy": "2024-04-12T07:16:31.100962Z",
     "iopub.status.idle": "2024-04-12T07:16:31.668035Z",
     "shell.execute_reply": "2024-04-12T07:16:31.666998Z"
    },
    "papermill": {
     "duration": 3.933072,
     "end_time": "2024-04-12T07:16:31.670662",
     "exception": false,
     "start_time": "2024-04-12T07:16:27.737590",
     "status": "completed"
    },
    "tags": []
   },
   "outputs": [
    {
     "data": {
      "image/png": "[encoded data removed]",
      "text/plain": [
       "<Figure size 1000x500 with 2 Axes>"
      ]
     },
     "metadata": {},
     "output_type": "display_data"
    }
   ],
   "source": [
    "plt.figure(figsize=(10, 5))\n",
    "plt.subplot(1, 2, 1)\n",
    "plt.plot(train_losses, label='Train Loss')\n",
    "plt.plot(val_losses, label='Validation Loss')\n",
    "plt.title('Training and Validation Loss')\n",
    "plt.xlabel('Epochs')\n",
    "plt.ylabel('Loss')\n",
    "plt.legend()\n",
    "\n",
    "# Plotting training and validation accuracies\n",
    "plt.subplot(1, 2, 2)\n",
    "plt.plot(train_accuracies, label='Train Accuracy')\n",
    "plt.plot(val_accuracies, label='Validation Accuracy')\n",
    "plt.title('Training and Validation Accuracy')\n",
    "plt.xlabel('Epochs')\n",
    "plt.ylabel('Accuracy (%)')\n",
    "plt.legend()\n",
    "\n",
    "plt.show()"
   ]
  },
  {
   "cell_type": "code",
   "execution_count": 19,
   "id": "f037e272",
   "metadata": {
    "execution": {
     "iopub.execute_input": "2024-04-12T07:16:38.105428Z",
     "iopub.status.busy": "2024-04-12T07:16:38.105060Z",
     "iopub.status.idle": "2024-04-12T07:16:38.681777Z",
     "shell.execute_reply": "2024-04-12T07:16:38.680967Z"
    },
    "id": "LrnWveHNgK3b",
    "papermill": {
     "duration": 3.751511,
     "end_time": "2024-04-12T07:16:38.683947",
     "exception": false,
     "start_time": "2024-04-12T07:16:34.932436",
     "status": "completed"
    },
    "tags": []
   },
   "outputs": [],
   "source": [
    "import pickle\n",
    "def load_cifar_batch(file):\n",
    "    with open(file, 'rb') as fo:\n",
    "        batch = pickle.load(fo, encoding='bytes')\n",
    "    return batch\n",
    "\n",
    "# Load the batch\n",
    "cifar10_batch = load_cifar_batch('/kaggle/input/deep-learning-mini-project-spring-24-nyu/cifar_test_nolabels.pkl')\n",
    "\n",
    "# Extract images\n",
    "images = cifar10_batch[b'data'].reshape(-1, 3, 32, 32).transpose(0, 2, 3, 1)"
   ]
  },
  {
   "cell_type": "code",
   "execution_count": 20,
   "id": "74dcde3b",
   "metadata": {
    "execution": {
     "iopub.execute_input": "2024-04-12T07:16:45.160470Z",
     "iopub.status.busy": "2024-04-12T07:16:45.159316Z",
     "iopub.status.idle": "2024-04-12T07:16:45.623563Z",
     "shell.execute_reply": "2024-04-12T07:16:45.622621Z"
    },
    "id": "wS_QaiWhgTxd",
    "papermill": {
     "duration": 3.567092,
     "end_time": "2024-04-12T07:16:45.625843",
     "exception": false,
     "start_time": "2024-04-12T07:16:42.058751",
     "status": "completed"
    },
    "tags": []
   },
   "outputs": [
    {
     "data": {
      "image/png": "[encoded data removed]",
      "text/plain": [
       "<Figure size 2000x400 with 10 Axes>"
      ]
     },
     "metadata": {},
     "output_type": "display_data"
    }
   ],
   "source": [
    "import matplotlib.pyplot as plt\n",
    "images = cifar10_batch[b'data']\n",
    "# Reshape to (number of images, width, height, channels)\n",
    "images = images.reshape((-1, 3, 32, 32)).transpose(0, 2, 3, 1)\n",
    "\n",
    "# Display the first 10 images\n",
    "plt.figure(figsize=(20, 4))\n",
    "for i in range(10):\n",
    "    plt.subplot(1, 10, i+1)\n",
    "    plt.imshow(images[i])\n",
    "    plt.axis('off')\n",
    "plt.show()"
   ]
  },
  {
   "cell_type": "code",
   "execution_count": 21,
   "id": "cdddff16",
   "metadata": {
    "execution": {
     "iopub.execute_input": "2024-04-12T07:16:52.267803Z",
     "iopub.status.busy": "2024-04-12T07:16:52.266966Z",
     "iopub.status.idle": "2024-04-12T07:16:52.274320Z",
     "shell.execute_reply": "2024-04-12T07:16:52.273429Z"
    },
    "id": "nlLFfvKTgYC0",
    "papermill": {
     "duration": 3.377272,
     "end_time": "2024-04-12T07:16:52.276231",
     "exception": false,
     "start_time": "2024-04-12T07:16:48.898959",
     "status": "completed"
    },
    "tags": []
   },
   "outputs": [],
   "source": [
    "from torch.utils.data import Dataset, DataLoader\n",
    "\n",
    "class CIFAR_testDataset(Dataset):\n",
    "    def __init__(self, images, transform=None):\n",
    "        \"\"\"\n",
    "        Args:\n",
    "            images (numpy array): Image data reshaped to (-1, 3, 32, 32) or (-1, 32, 32, 3).\n",
    "            transform (callable, optional): Optional transform to be applied on a sample.\n",
    "        \"\"\"\n",
    "        # If images are in the format (-1, 32, 32, 3), you might need to transpose them to (-1, 3, 32, 32)\n",
    "        # depending on how you plan to apply transforms. If your transforms expect the latter format,\n",
    "        # transpose the images as needed here.\n",
    "        self.data = images\n",
    "        self.transform = transform\n",
    "\n",
    "    def __len__(self):\n",
    "        return len(self.data)\n",
    "\n",
    "    def __getitem__(self, idx):\n",
    "        image = self.data[idx]\n",
    "\n",
    "        if self.transform:\n",
    "            # Make sure the image is a PIL Image if your transforms expect it\n",
    "            image = Image.fromarray(image)\n",
    "            image = self.transform(image)\n",
    "\n",
    "        # Since there are no labels, you might want to return a dummy label or modify the dataset to not return labels\n",
    "        return image, 0"
   ]
  },
  {
   "cell_type": "code",
   "execution_count": 22,
   "id": "36282361",
   "metadata": {
    "execution": {
     "iopub.execute_input": "2024-04-12T07:16:58.582302Z",
     "iopub.status.busy": "2024-04-12T07:16:58.581934Z",
     "iopub.status.idle": "2024-04-12T07:16:58.587887Z",
     "shell.execute_reply": "2024-04-12T07:16:58.587056Z"
    },
    "id": "Vmr_VO8pgbk6",
    "papermill": {
     "duration": 3.216912,
     "end_time": "2024-04-12T07:16:58.589723",
     "exception": false,
     "start_time": "2024-04-12T07:16:55.372811",
     "status": "completed"
    },
    "tags": []
   },
   "outputs": [],
   "source": [
    "from torchvision import transforms\n",
    "\n",
    "transform2 = transforms.Compose([\n",
    "    #transforms.ColorJitter(brightness=0.2, contrast=0.2, saturation=0.2),\n",
    "    transforms.ToTensor(),\n",
    "    transforms.Normalize((0.485, 0.456, 0.406), (0.229, 0.224, 0.225))\n",
    "])\n",
    "cifar10_test = CIFAR_testDataset(images=images, transform=transform2)\n",
    "test_loader = DataLoader(cifar10_test, batch_size=64, shuffle=False)\n"
   ]
  },
  {
   "cell_type": "code",
   "execution_count": 23,
   "id": "2dfafc0c",
   "metadata": {
    "execution": {
     "iopub.execute_input": "2024-04-12T07:17:05.139845Z",
     "iopub.status.busy": "2024-04-12T07:17:05.139461Z",
     "iopub.status.idle": "2024-04-12T07:17:08.586886Z",
     "shell.execute_reply": "2024-04-12T07:17:08.586145Z"
    },
    "id": "4bG28WSPgpm2",
    "papermill": {
     "duration": 6.721913,
     "end_time": "2024-04-12T07:17:08.589093",
     "exception": false,
     "start_time": "2024-04-12T07:17:01.867180",
     "status": "completed"
    },
    "tags": []
   },
   "outputs": [],
   "source": [
    "model.eval()\n",
    "predictions = []\n",
    "\n",
    "with torch.no_grad():\n",
    "    for images, _ in test_loader:\n",
    "        images = images.to(device)\n",
    "        outputs = model(images)\n",
    "\n",
    "        _, predicted = torch.max(outputs, 1)\n",
    "\n",
    "        predictions.extend(predicted.tolist())"
   ]
  },
  {
   "cell_type": "code",
   "execution_count": 24,
   "id": "3f370c1f",
   "metadata": {
    "execution": {
     "iopub.execute_input": "2024-04-12T07:17:15.031693Z",
     "iopub.status.busy": "2024-04-12T07:17:15.031321Z",
     "iopub.status.idle": "2024-04-12T07:17:15.062849Z",
     "shell.execute_reply": "2024-04-12T07:17:15.061878Z"
    },
    "id": "ljZBT0THgt4A",
    "papermill": {
     "duration": 3.154002,
     "end_time": "2024-04-12T07:17:15.064747",
     "exception": false,
     "start_time": "2024-04-12T07:17:11.910745",
     "status": "completed"
    },
    "tags": []
   },
   "outputs": [],
   "source": [
    "predictions_df =pd.DataFrame(predictions, columns=['Predicted'])\n",
    "predictions_df['ID'] = predictions_df.index\n",
    "predictions_df.set_index('ID',inplace=True)\n",
    "predictions_df.to_csv('predictions.csv', index_label='ID')"
   ]
  },
  {
   "cell_type": "code",
   "execution_count": 25,
   "id": "8f07a4be",
   "metadata": {
    "execution": {
     "iopub.execute_input": "2024-04-12T07:17:21.564494Z",
     "iopub.status.busy": "2024-04-12T07:17:21.564127Z",
     "iopub.status.idle": "2024-04-12T07:17:21.576944Z",
     "shell.execute_reply": "2024-04-12T07:17:21.576048Z"
    },
    "id": "Z2W7oBHIgyis",
    "papermill": {
     "duration": 3.160697,
     "end_time": "2024-04-12T07:17:21.578762",
     "exception": false,
     "start_time": "2024-04-12T07:17:18.418065",
     "status": "completed"
    },
    "tags": []
   },
   "outputs": [
    {
     "data": {
      "text/html": [
       "<div>\n",
       "<style scoped>\n",
       "    .dataframe tbody tr th:only-of-type {\n",
       "        vertical-align: middle;\n",
       "    }\n",
       "\n",
       "    .dataframe tbody tr th {\n",
       "        vertical-align: top;\n",
       "    }\n",
       "\n",
       "    .dataframe thead th {\n",
       "        text-align: right;\n",
       "    }\n",
       "</style>\n",
       "<table border=\"1\" class=\"dataframe\">\n",
       "  <thead>\n",
       "    <tr style=\"text-align: right;\">\n",
       "      <th></th>\n",
       "      <th>Predicted</th>\n",
       "    </tr>\n",
       "    <tr>\n",
       "      <th>ID</th>\n",
       "      <th></th>\n",
       "    </tr>\n",
       "  </thead>\n",
       "  <tbody>\n",
       "    <tr>\n",
       "      <th>0</th>\n",
       "      <td>2</td>\n",
       "    </tr>\n",
       "    <tr>\n",
       "      <th>1</th>\n",
       "      <td>8</td>\n",
       "    </tr>\n",
       "    <tr>\n",
       "      <th>2</th>\n",
       "      <td>8</td>\n",
       "    </tr>\n",
       "    <tr>\n",
       "      <th>3</th>\n",
       "      <td>8</td>\n",
       "    </tr>\n",
       "    <tr>\n",
       "      <th>4</th>\n",
       "      <td>8</td>\n",
       "    </tr>\n",
       "    <tr>\n",
       "      <th>...</th>\n",
       "      <td>...</td>\n",
       "    </tr>\n",
       "    <tr>\n",
       "      <th>9995</th>\n",
       "      <td>5</td>\n",
       "    </tr>\n",
       "    <tr>\n",
       "      <th>9996</th>\n",
       "      <td>5</td>\n",
       "    </tr>\n",
       "    <tr>\n",
       "      <th>9997</th>\n",
       "      <td>4</td>\n",
       "    </tr>\n",
       "    <tr>\n",
       "      <th>9998</th>\n",
       "      <td>5</td>\n",
       "    </tr>\n",
       "    <tr>\n",
       "      <th>9999</th>\n",
       "      <td>8</td>\n",
       "    </tr>\n",
       "  </tbody>\n",
       "</table>\n",
       "<p>10000 rows × 1 columns</p>\n",
       "</div>"
      ],
      "text/plain": [
       "      Predicted\n",
       "ID             \n",
       "0             2\n",
       "1             8\n",
       "2             8\n",
       "3             8\n",
       "4             8\n",
       "...         ...\n",
       "9995          5\n",
       "9996          5\n",
       "9997          4\n",
       "9998          5\n",
       "9999          8\n",
       "\n",
       "[10000 rows x 1 columns]"
      ]
     },
     "execution_count": 25,
     "metadata": {},
     "output_type": "execute_result"
    }
   ],
   "source": [
    "predictions_df"
   ]
  }
 ],
 "metadata": {
  "accelerator": "GPU",
  "colab": {
   "gpuType": "T4",
   "provenance": []
  },
  "kaggle": {
   "accelerator": "gpu",
   "dataSources": [
    {
     "databundleVersionId": 8112053,
     "sourceId": 73233,
     "sourceType": "competition"
    }
   ],
   "dockerImageVersionId": 30683,
   "isGpuEnabled": true,
   "isInternetEnabled": true,
   "language": "python",
   "sourceType": "notebook"
  },
  "kernelspec": {
   "display_name": "Python 3",
   "language": "python",
   "name": "python3"
  },
  "language_info": {
   "codemirror_mode": {
    "name": "ipython",
    "version": 3
   },
   "file_extension": ".py",
   "mimetype": "text/x-python",
   "name": "python",
   "nbconvert_exporter": "python",
   "pygments_lexer": "ipython3",
   "version": "3.10.13"
  },
  "papermill": {
   "default_parameters": {},
   "duration": 13777.912312,
   "end_time": "2024-04-12T07:17:27.311445",
   "environment_variables": {},
   "exception": null,
   "input_path": "__notebook__.ipynb",
   "output_path": "__notebook__.ipynb",
   "parameters": {},
   "start_time": "2024-04-12T03:27:49.399133",
   "version": "2.5.0"
  }
 },
 "nbformat": 4,
 "nbformat_minor": 5
}
